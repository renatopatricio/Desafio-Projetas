{
 "cells": [
  {
   "cell_type": "code",
   "execution_count": 1,
   "id": "d7369152",
   "metadata": {},
   "outputs": [],
   "source": [
    "import functools\n",
    "from functools import reduce  # For Python 3.x\n",
    "\n",
    "from pyspark.sql import DataFrame\n",
    "from pyspark.sql import SparkSession\n",
    "\n",
    "import pandas as pd\n",
    "import time\n",
    "\n",
    "from pyspark.sql.functions import *\n",
    "from pyspark.sql.types import *"
   ]
  },
  {
   "cell_type": "code",
   "execution_count": 2,
   "id": "8d54da6c",
   "metadata": {},
   "outputs": [],
   "source": [
    "spark = (\n",
    "    SparkSession.builder\n",
    "    .master('local')\n",
    "    .appName('vra_concat_sql')\n",
    "    .getOrCreate()\n",
    ")"
   ]
  },
  {
   "cell_type": "code",
   "execution_count": 31,
   "id": "0c35f533",
   "metadata": {},
   "outputs": [],
   "source": [
    "df1 = spark.read.json('VRA_20211.json')\n",
    "df2 = spark.read.json('VRA_20212.json')\n",
    "df3 = spark.read.json('VRA_20213.json')\n",
    "df4 = spark.read.json('VRA_20214.json')\n",
    "df5 = spark.read.json('VRA_20215.json')\n",
    "df6 = spark.read.json('VRA_20216.json')\n",
    "df7 = spark.read.json('VRA_20217.json')\n",
    "df8 = spark.read.json('VRA_20218.json')\n",
    "df9 = spark.read.json('VRA_20219.json')\n",
    "df10 = spark.read.json('VRA_202110.json')\n",
    "df11 = spark.read.json('VRA_202111.json')\n",
    "\n"
   ]
  },
  {
   "cell_type": "code",
   "execution_count": 9,
   "id": "713d841e",
   "metadata": {},
   "outputs": [],
   "source": [
    "#def unionAll(dfs):\n",
    "    #return functools.reduce(lambda df1, df: df1.union(df.select(df1.columns)), dfs)"
   ]
  },
  {
   "cell_type": "code",
   "execution_count": 32,
   "id": "9e457156",
   "metadata": {},
   "outputs": [],
   "source": [
    "def unionAll(*dfs):\n",
    "    return reduce(DataFrame.unionAll, dfs)\n",
    "  \n",
    "df_union = unionAll(df1,df2,df3,df4,df5,df6,df7,df8,df9,df10,df11)"
   ]
  },
  {
   "cell_type": "code",
   "execution_count": 33,
   "id": "94f47096",
   "metadata": {},
   "outputs": [
    {
     "name": "stdout",
     "output_type": "stream",
     "text": [
      "+-------------------+-------------------+-----------------+-------------------+---------------+--------------------+-------------------+----------------+---------+-------------------+-------------------+-----------+\n",
      "|    ChegadaPrevista|        ChegadaReal|CódigoAutorização|CódigoJustificativa|CódigoTipoLinha|ICAOAeródromoDestino|ICAOAeródromoOrigem|ICAOEmpresaAérea|NúmeroVoo|    PartidaPrevista|        PartidaReal|SituaçãoVoo|\n",
      "+-------------------+-------------------+-----------------+-------------------+---------------+--------------------+-------------------+----------------+---------+-------------------+-------------------+-----------+\n",
      "|2021-01-19 14:45:00|2021-01-19 19:22:00|                7|                N/A|              C|                SBEG|               SBBE|             MWM|     9702|2021-01-19 12:35:00|2021-01-19 17:17:00|  REALIZADO|\n",
      "|2021-01-26 12:05:00|2021-01-26 12:04:00|                7|                N/A|              C|                SBPA|               SBGL|             MWM|     9701|2021-01-26 10:00:00|2021-01-26 09:55:00|  REALIZADO|\n",
      "|2021-01-18 23:20:00|2021-01-19 00:50:00|                7|                N/A|              C|                SBBE|               SBEG|             MWM|     9701|2021-01-18 21:15:00|2021-01-18 22:35:00|  REALIZADO|\n",
      "|2021-01-15 00:45:00|2021-01-15 00:39:00|                0|                N/A|              C|                SBEG|               SBGL|             MWM|     9700|2021-01-14 20:30:00|2021-01-14 20:27:00|  REALIZADO|\n",
      "|2021-01-24 15:10:00|2021-01-24 23:21:00|                7|                N/A|              C|                SBEG|               SBKP|             MWM|     9700|2021-01-24 11:30:00|2021-01-24 19:35:00|  REALIZADO|\n",
      "|2021-01-15 17:55:00|2021-01-15 18:00:00|                2|                N/A|              C|                SBKP|               SBEG|             MWM|     9203|2021-01-15 14:00:00|2021-01-15 14:05:00|  REALIZADO|\n",
      "|2021-01-30 15:35:00|2021-01-30 15:16:00|                2|                N/A|              C|                SBKP|               SBEG|             MWM|     9203|2021-01-30 11:40:00|2021-01-30 11:25:00|  REALIZADO|\n",
      "|2021-01-23 19:10:00|2021-01-23 19:31:00|                2|                N/A|              C|                SBBR|               SBEG|             MWM|     9203|2021-01-23 16:10:00|2021-01-23 16:36:00|  REALIZADO|\n",
      "|2021-01-14 14:40:00|2021-01-14 14:50:00|                0|                N/A|              C|                SBRF|               SBKP|             MWM|     5806|2021-01-14 11:30:00|2021-01-14 11:42:00|  REALIZADO|\n",
      "|2021-01-12 14:10:00|2021-01-12 14:48:00|                0|                N/A|              C|                SBRF|               SBKP|             MWM|     5806|2021-01-12 11:00:00|2021-01-12 11:21:00|  REALIZADO|\n",
      "|2021-01-07 14:10:00|2021-01-07 14:18:00|                0|                N/A|              C|                SBRF|               SBKP|             MWM|     5806|2021-01-07 11:00:00|2021-01-07 11:00:00|  REALIZADO|\n",
      "|2021-01-05 14:10:00|2021-01-05 14:51:00|                0|                N/A|              C|                SBRF|               SBKP|             MWM|     5806|2021-01-05 11:00:00|2021-01-05 11:35:00|  REALIZADO|\n",
      "|2021-01-28 12:45:00|2021-01-28 12:52:00|                0|                N/A|              C|                SBKP|               SBEG|             MWM|     5803|2021-01-28 08:50:00|2021-01-28 08:56:00|  REALIZADO|\n",
      "|2021-01-23 10:15:00|2021-01-23 10:19:00|                0|                N/A|              C|                SBKP|               SBEG|             MWM|     5803|2021-01-23 06:20:00|2021-01-23 06:26:00|  REALIZADO|\n",
      "|2021-01-19 09:45:00|2021-01-19 09:30:00|                0|                N/A|              C|                SBKP|               SBEG|             MWM|     5803|2021-01-19 02:50:00|2021-01-19 05:41:00|  REALIZADO|\n",
      "|2021-01-14 09:45:00|2021-01-14 09:32:00|                0|                N/A|              C|                SBKP|               SBEG|             MWM|     5803|2021-01-14 05:50:00|2021-01-14 05:46:00|  REALIZADO|\n",
      "|2021-01-05 08:05:00|2021-01-05 07:45:00|                0|                N/A|              C|                SBKP|               SBEG|             MWM|     5803|2021-01-05 04:10:00|2021-01-05 03:57:00|  REALIZADO|\n",
      "|2021-01-30 11:50:00|2021-01-30 11:53:00|                0|                N/A|              C|                SBBR|               SBEG|             MWM|     5803|2021-01-30 08:50:00|2021-01-30 08:41:00|  REALIZADO|\n",
      "|2021-01-26 11:50:00|2021-01-26 11:40:00|                0|                N/A|              C|                SBBR|               SBEG|             MWM|     5803|2021-01-26 08:50:00|2021-01-26 08:42:00|  REALIZADO|\n",
      "|2021-01-21 06:50:00|2021-01-21 06:50:00|                0|                N/A|              C|                SBBR|               SBEG|             MWM|     5803|2021-01-21 03:50:00|2021-01-21 03:52:00|  REALIZADO|\n",
      "+-------------------+-------------------+-----------------+-------------------+---------------+--------------------+-------------------+----------------+---------+-------------------+-------------------+-----------+\n",
      "only showing top 20 rows\n",
      "\n"
     ]
    }
   ],
   "source": [
    "df_union.show()"
   ]
  },
  {
   "cell_type": "code",
   "execution_count": 16,
   "id": "b41bd468",
   "metadata": {},
   "outputs": [
    {
     "name": "stdout",
     "output_type": "stream",
     "text": [
      "CódigoAutorização in DataFrame df is : 535803\n"
     ]
    }
   ],
   "source": [
    "print('CódigoAutorização in DataFrame df is :', df_union.distinct().count())"
   ]
  },
  {
   "cell_type": "code",
   "execution_count": 34,
   "id": "c937e490",
   "metadata": {},
   "outputs": [
    {
     "name": "stdout",
     "output_type": "stream",
     "text": [
      "root\n",
      " |-- ChegadaPrevista: string (nullable = true)\n",
      " |-- ChegadaReal: string (nullable = true)\n",
      " |-- CódigoAutorização: string (nullable = true)\n",
      " |-- CódigoJustificativa: string (nullable = true)\n",
      " |-- CódigoTipoLinha: string (nullable = true)\n",
      " |-- ICAOAeródromoDestino: string (nullable = true)\n",
      " |-- ICAOAeródromoOrigem: string (nullable = true)\n",
      " |-- ICAOEmpresaAérea: string (nullable = true)\n",
      " |-- NúmeroVoo: string (nullable = true)\n",
      " |-- PartidaPrevista: string (nullable = true)\n",
      " |-- PartidaReal: string (nullable = true)\n",
      " |-- SituaçãoVoo: string (nullable = true)\n",
      "\n"
     ]
    }
   ],
   "source": [
    "df_union.printSchema()"
   ]
  },
  {
   "cell_type": "code",
   "execution_count": 35,
   "id": "65843f43",
   "metadata": {},
   "outputs": [
    {
     "name": "stdout",
     "output_type": "stream",
     "text": [
      "+-------------------+-------------------+------------------+--------------------+----------------+----------------------+---------------------+------------------+----------+-------------------+-------------------+------------+\n",
      "|   chegada_prevista|       chegada_real|código_autorização|código_justificativa|código_tipoLinha|icao_aeródromo_destino|icao_aeródromo_origem|icao_empresa_aérea|número_voo|   partida_prevista|       partida_real|situação_voo|\n",
      "+-------------------+-------------------+------------------+--------------------+----------------+----------------------+---------------------+------------------+----------+-------------------+-------------------+------------+\n",
      "|2021-01-19 14:45:00|2021-01-19 19:22:00|                 7|                 N/A|               C|                  SBEG|                 SBBE|               MWM|      9702|2021-01-19 12:35:00|2021-01-19 17:17:00|   REALIZADO|\n",
      "|2021-01-26 12:05:00|2021-01-26 12:04:00|                 7|                 N/A|               C|                  SBPA|                 SBGL|               MWM|      9701|2021-01-26 10:00:00|2021-01-26 09:55:00|   REALIZADO|\n",
      "|2021-01-18 23:20:00|2021-01-19 00:50:00|                 7|                 N/A|               C|                  SBBE|                 SBEG|               MWM|      9701|2021-01-18 21:15:00|2021-01-18 22:35:00|   REALIZADO|\n",
      "|2021-01-15 00:45:00|2021-01-15 00:39:00|                 0|                 N/A|               C|                  SBEG|                 SBGL|               MWM|      9700|2021-01-14 20:30:00|2021-01-14 20:27:00|   REALIZADO|\n",
      "|2021-01-24 15:10:00|2021-01-24 23:21:00|                 7|                 N/A|               C|                  SBEG|                 SBKP|               MWM|      9700|2021-01-24 11:30:00|2021-01-24 19:35:00|   REALIZADO|\n",
      "+-------------------+-------------------+------------------+--------------------+----------------+----------------------+---------------------+------------------+----------+-------------------+-------------------+------------+\n",
      "only showing top 5 rows\n",
      "\n"
     ]
    }
   ],
   "source": [
    "df_union = df_union.withColumnRenamed('ChegadaPrevista', 'chegada_prevista')\\\n",
    ".withColumnRenamed('ChegadaReal', 'chegada_real')\\\n",
    ".withColumnRenamed('CódigoAutorização', 'código_autorização')\\\n",
    ".withColumnRenamed('CódigoJustificativa', 'código_justificativa')\\\n",
    ".withColumnRenamed('CódigoTipoLinha', 'código_tipoLinha')\\\n",
    ".withColumnRenamed('ICAOAeródromoDestino', 'icao_aeródromo_destino')\\\n",
    ".withColumnRenamed('ICAOAeródromoOrigem', 'icao_aeródromo_origem')\\\n",
    ".withColumnRenamed('ICAOEmpresaAérea', 'icao_empresa_aérea')\\\n",
    ".withColumnRenamed('NúmeroVoo', 'número_voo')\\\n",
    ".withColumnRenamed('PartidaPrevista', 'partida_prevista')\\\n",
    ".withColumnRenamed('PartidaReal', 'partida_real')\\\n",
    ".withColumnRenamed('SituaçãoVoo', 'situação_voo')\\\n",
    "\n",
    "df_union.show(5)"
   ]
  },
  {
   "cell_type": "code",
   "execution_count": 36,
   "id": "4fdb335b",
   "metadata": {},
   "outputs": [
    {
     "name": "stdout",
     "output_type": "stream",
     "text": [
      "root\n",
      " |-- chegada_prevista: string (nullable = true)\n",
      " |-- chegada_real: string (nullable = true)\n",
      " |-- código_autorização: string (nullable = true)\n",
      " |-- código_justificativa: string (nullable = true)\n",
      " |-- código_tipoLinha: string (nullable = true)\n",
      " |-- icao_aeródromo_destino: string (nullable = true)\n",
      " |-- icao_aeródromo_origem: string (nullable = true)\n",
      " |-- icao_empresa_aérea: string (nullable = true)\n",
      " |-- número_voo: string (nullable = true)\n",
      " |-- partida_prevista: string (nullable = true)\n",
      " |-- partida_real: string (nullable = true)\n",
      " |-- situação_voo: string (nullable = true)\n",
      "\n"
     ]
    }
   ],
   "source": [
    "df_union.printSchema()"
   ]
  },
  {
   "cell_type": "code",
   "execution_count": 37,
   "id": "78cbbc2e",
   "metadata": {},
   "outputs": [
    {
     "data": {
      "text/plain": [
       "['chegada_prevista',\n",
       " 'chegada_real',\n",
       " 'código_autorização',\n",
       " 'código_justificativa',\n",
       " 'código_tipoLinha',\n",
       " 'icao_aeródromo_destino',\n",
       " 'icao_aeródromo_origem',\n",
       " 'icao_empresa_aérea',\n",
       " 'número_voo',\n",
       " 'partida_prevista',\n",
       " 'partida_real',\n",
       " 'situação_voo']"
      ]
     },
     "execution_count": 37,
     "metadata": {},
     "output_type": "execute_result"
    }
   ],
   "source": [
    "df_union.columns"
   ]
  },
  {
   "cell_type": "code",
   "execution_count": 38,
   "id": "a358c566",
   "metadata": {},
   "outputs": [
    {
     "name": "stdout",
     "output_type": "stream",
     "text": [
      "chegada_prevista 1093\n",
      "chegada_real 24245\n",
      "código_autorização 0\n",
      "código_justificativa 0\n",
      "código_tipoLinha 0\n",
      "icao_aeródromo_destino 0\n",
      "icao_aeródromo_origem 0\n",
      "icao_empresa_aérea 0\n",
      "número_voo 0\n",
      "partida_prevista 1093\n",
      "partida_real 24245\n",
      "situação_voo 0\n"
     ]
    }
   ],
   "source": [
    "for coluna in df_union.columns:\n",
    "    print(coluna, df_union.filter(df_union[coluna].isNull()).count())"
   ]
  },
  {
   "cell_type": "code",
   "execution_count": 24,
   "id": "8c23e039",
   "metadata": {},
   "outputs": [
    {
     "name": "stdout",
     "output_type": "stream",
     "text": [
      "Número total de registros in df: 535803\n"
     ]
    }
   ],
   "source": [
    "print(\"Número total de registros in df:\", df_union.count())"
   ]
  },
  {
   "cell_type": "code",
   "execution_count": 23,
   "id": "afabc6dd",
   "metadata": {},
   "outputs": [
    {
     "name": "stdout",
     "output_type": "stream",
     "text": [
      "Distinct count in DataFrame df is : 535803\n"
     ]
    }
   ],
   "source": [
    "print('Distinct count in DataFrame df is :', df_union.distinct().count())\n"
   ]
  },
  {
   "cell_type": "code",
   "execution_count": 39,
   "id": "13b0983b",
   "metadata": {},
   "outputs": [],
   "source": [
    "from pyspark.sql.functions import countDistinct"
   ]
  },
  {
   "cell_type": "code",
   "execution_count": null,
   "id": "ada7b8a2",
   "metadata": {},
   "outputs": [],
   "source": [
    "#df_union = df_union.select(countDistinct(\"icao_empresa_aérea\", \"icao_aeródromo_destino\", \"icao_aeródromo_origem\"))"
   ]
  },
  {
   "cell_type": "code",
   "execution_count": 40,
   "id": "5189250a",
   "metadata": {},
   "outputs": [
    {
     "name": "stdout",
     "output_type": "stream",
     "text": [
      "+-------------------+-------------------+------------------+--------------------+----------------+----------------------+---------------------+------------------+----------+-------------------+-------------------+------------+\n",
      "|   chegada_prevista|       chegada_real|código_autorização|código_justificativa|código_tipoLinha|icao_aeródromo_destino|icao_aeródromo_origem|icao_empresa_aérea|número_voo|   partida_prevista|       partida_real|situação_voo|\n",
      "+-------------------+-------------------+------------------+--------------------+----------------+----------------------+---------------------+------------------+----------+-------------------+-------------------+------------+\n",
      "|2021-01-19 14:45:00|2021-01-19 19:22:00|                 7|                 N/A|               C|                  SBEG|                 SBBE|               MWM|      9702|2021-01-19 12:35:00|2021-01-19 17:17:00|   REALIZADO|\n",
      "|2021-01-26 12:05:00|2021-01-26 12:04:00|                 7|                 N/A|               C|                  SBPA|                 SBGL|               MWM|      9701|2021-01-26 10:00:00|2021-01-26 09:55:00|   REALIZADO|\n",
      "|2021-01-18 23:20:00|2021-01-19 00:50:00|                 7|                 N/A|               C|                  SBBE|                 SBEG|               MWM|      9701|2021-01-18 21:15:00|2021-01-18 22:35:00|   REALIZADO|\n",
      "|2021-01-15 00:45:00|2021-01-15 00:39:00|                 0|                 N/A|               C|                  SBEG|                 SBGL|               MWM|      9700|2021-01-14 20:30:00|2021-01-14 20:27:00|   REALIZADO|\n",
      "|2021-01-24 15:10:00|2021-01-24 23:21:00|                 7|                 N/A|               C|                  SBEG|                 SBKP|               MWM|      9700|2021-01-24 11:30:00|2021-01-24 19:35:00|   REALIZADO|\n",
      "|2021-01-15 17:55:00|2021-01-15 18:00:00|                 2|                 N/A|               C|                  SBKP|                 SBEG|               MWM|      9203|2021-01-15 14:00:00|2021-01-15 14:05:00|   REALIZADO|\n",
      "|2021-01-30 15:35:00|2021-01-30 15:16:00|                 2|                 N/A|               C|                  SBKP|                 SBEG|               MWM|      9203|2021-01-30 11:40:00|2021-01-30 11:25:00|   REALIZADO|\n",
      "|2021-01-23 19:10:00|2021-01-23 19:31:00|                 2|                 N/A|               C|                  SBBR|                 SBEG|               MWM|      9203|2021-01-23 16:10:00|2021-01-23 16:36:00|   REALIZADO|\n",
      "|2021-01-14 14:40:00|2021-01-14 14:50:00|                 0|                 N/A|               C|                  SBRF|                 SBKP|               MWM|      5806|2021-01-14 11:30:00|2021-01-14 11:42:00|   REALIZADO|\n",
      "|2021-01-12 14:10:00|2021-01-12 14:48:00|                 0|                 N/A|               C|                  SBRF|                 SBKP|               MWM|      5806|2021-01-12 11:00:00|2021-01-12 11:21:00|   REALIZADO|\n",
      "+-------------------+-------------------+------------------+--------------------+----------------+----------------------+---------------------+------------------+----------+-------------------+-------------------+------------+\n",
      "only showing top 10 rows\n",
      "\n"
     ]
    }
   ],
   "source": [
    "df_union.show(10)"
   ]
  },
  {
   "cell_type": "code",
   "execution_count": 42,
   "id": "167fec3b",
   "metadata": {},
   "outputs": [
    {
     "data": {
      "text/plain": [
       "535803"
      ]
     },
     "execution_count": 42,
     "metadata": {},
     "output_type": "execute_result"
    }
   ],
   "source": [
    "df_union.count()\n"
   ]
  },
  {
   "cell_type": "code",
   "execution_count": 43,
   "id": "4c8484c3",
   "metadata": {},
   "outputs": [
    {
     "data": {
      "text/plain": [
       "['chegada_prevista',\n",
       " 'chegada_real',\n",
       " 'código_autorização',\n",
       " 'código_justificativa',\n",
       " 'código_tipoLinha',\n",
       " 'icao_aeródromo_destino',\n",
       " 'icao_aeródromo_origem',\n",
       " 'icao_empresa_aérea',\n",
       " 'número_voo',\n",
       " 'partida_prevista',\n",
       " 'partida_real',\n",
       " 'situação_voo']"
      ]
     },
     "execution_count": 43,
     "metadata": {},
     "output_type": "execute_result"
    }
   ],
   "source": [
    "df_union.columns"
   ]
  },
  {
   "cell_type": "code",
   "execution_count": 46,
   "id": "44db012f",
   "metadata": {},
   "outputs": [
    {
     "data": {
      "text/plain": [
       "535803"
      ]
     },
     "execution_count": 46,
     "metadata": {},
     "output_type": "execute_result"
    }
   ],
   "source": [
    "df_union.distinct().count()"
   ]
  },
  {
   "cell_type": "code",
   "execution_count": 47,
   "id": "11723ba0",
   "metadata": {},
   "outputs": [],
   "source": [
    "row = df_union.count()"
   ]
  },
  {
   "cell_type": "code",
   "execution_count": 48,
   "id": "48b6a6e8",
   "metadata": {},
   "outputs": [
    {
     "data": {
      "text/plain": [
       "DataFrame[chegada_prevista: string, chegada_real: string, código_autorização: string, código_justificativa: string, código_tipoLinha: string, icao_aeródromo_destino: string, icao_aeródromo_origem: string, icao_empresa_aérea: string, número_voo: string, partida_prevista: string, partida_real: string, situação_voo: string]"
      ]
     },
     "execution_count": 48,
     "metadata": {},
     "output_type": "execute_result"
    }
   ],
   "source": [
    "df_union"
   ]
  },
  {
   "cell_type": "code",
   "execution_count": 50,
   "id": "24bb2e13",
   "metadata": {},
   "outputs": [
    {
     "name": "stdout",
     "output_type": "stream",
     "text": [
      "Dimension of the Dataframe is: (535803, 12)\n",
      "Number of Rows are: 535803\n",
      "Number of Columns are: 12\n"
     ]
    }
   ],
   "source": [
    "row = df_union.count()\n",
    "col = len(df_union.columns)\n",
    "print(f'Dimension of the Dataframe is: {(row,col)}')\n",
    "print(f'Number of Rows are: {row}')\n",
    "print(f'Number of Columns are: {col}')\n",
    "\n"
   ]
  },
  {
   "cell_type": "code",
   "execution_count": 58,
   "id": "8797f953",
   "metadata": {},
   "outputs": [
    {
     "name": "stdout",
     "output_type": "stream",
     "text": [
      "+------------------+\n",
      "|icao_empresa_aérea|\n",
      "+------------------+\n",
      "|               MWM|\n",
      "|               MWM|\n",
      "|               MWM|\n",
      "|               MWM|\n",
      "|               MWM|\n",
      "|               MWM|\n",
      "|               MWM|\n",
      "|               MWM|\n",
      "|               MWM|\n",
      "|               MWM|\n",
      "|               MWM|\n",
      "|               MWM|\n",
      "|               MWM|\n",
      "|               MWM|\n",
      "|               MWM|\n",
      "|               MWM|\n",
      "|               MWM|\n",
      "|               MWM|\n",
      "|               MWM|\n",
      "|               MWM|\n",
      "+------------------+\n",
      "only showing top 20 rows\n",
      "\n"
     ]
    }
   ],
   "source": [
    "df_union.select(\"icao_empresa_aérea\").show()"
   ]
  },
  {
   "cell_type": "code",
   "execution_count": 64,
   "id": "cabcccc4",
   "metadata": {},
   "outputs": [
    {
     "name": "stdout",
     "output_type": "stream",
     "text": [
      "+------------------+------+\n",
      "|icao_empresa_aérea| count|\n",
      "+------------------+------+\n",
      "|               CLX|   715|\n",
      "|               ETH|  1255|\n",
      "|               ACA|   329|\n",
      "|               KAL|   956|\n",
      "|               SOO|   160|\n",
      "|               TTL|  2149|\n",
      "|               SID|  7867|\n",
      "|               IBE|   656|\n",
      "|               BAW|   273|\n",
      "|               SKU|   425|\n",
      "|               MWM|  1258|\n",
      "|               AZN|   150|\n",
      "|               LPE|    62|\n",
      "|               TAP|  3452|\n",
      "|               GLO|115496|\n",
      "|               THY|  1398|\n",
      "|               DLH|   707|\n",
      "|               SAS|    19|\n",
      "|               KLM|  1195|\n",
      "|               UAL|  1934|\n",
      "|               LAN|  1186|\n",
      "|               SLM|    24|\n",
      "|               AFR|  1091|\n",
      "|               MPH|  1143|\n",
      "|               DAL|   765|\n",
      "|               PTB|  9694|\n",
      "|               TIW|    39|\n",
      "|               GTI|  1208|\n",
      "|               LTG|  3618|\n",
      "|               TPA|   771|\n",
      "|               AAL|  2023|\n",
      "|               FDX|   717|\n",
      "|               PAM|  3974|\n",
      "|               AEA|   299|\n",
      "|               LAP|   410|\n",
      "|               TAM|128133|\n",
      "|               EDR|    70|\n",
      "|               TCV|    24|\n",
      "|               UAE|  1224|\n",
      "|               AZA|   167|\n",
      "|               LCO|  1838|\n",
      "|               ARG|  1115|\n",
      "|               OWT|  9368|\n",
      "|               AZP|    34|\n",
      "|               AMX|   718|\n",
      "|               CKS|   194|\n",
      "|               SWR|   716|\n",
      "|               LAE|  1049|\n",
      "|               BOV|   635|\n",
      "|               LAU|    16|\n",
      "+------------------+------+\n",
      "only showing top 50 rows\n",
      "\n"
     ]
    }
   ],
   "source": [
    "df_union.groupBy(\"icao_empresa_aérea\").count().show(50)"
   ]
  },
  {
   "cell_type": "code",
   "execution_count": 60,
   "id": "fa8bf41e",
   "metadata": {},
   "outputs": [
    {
     "name": "stdout",
     "output_type": "stream",
     "text": [
      "+-------------------+-------------------+------------------+--------------------+----------------+----------------------+---------------------+------------------+----------+-------------------+-------------------+------------+\n",
      "|   chegada_prevista|       chegada_real|código_autorização|código_justificativa|código_tipoLinha|icao_aeródromo_destino|icao_aeródromo_origem|icao_empresa_aérea|número_voo|   partida_prevista|       partida_real|situação_voo|\n",
      "+-------------------+-------------------+------------------+--------------------+----------------+----------------------+---------------------+------------------+----------+-------------------+-------------------+------------+\n",
      "|2021-01-05 08:20:00|2021-01-05 07:51:00|                 0|                 N/A|               X|                  KMIA|                 SBGL|               AAL|      0904|2021-01-04 23:45:00|2021-01-04 23:38:00|   REALIZADO|\n",
      "|2021-01-25 08:20:00|2021-01-25 07:53:00|                 0|                 N/A|               X|                  KMIA|                 SBGL|               AAL|      0904|2021-01-24 23:45:00|2021-01-24 23:35:00|   REALIZADO|\n",
      "|2021-01-06 08:20:00|2021-01-06 08:12:00|                 0|                 N/A|               X|                  KMIA|                 SBGL|               AAL|      0904|2021-01-05 23:45:00|2021-01-05 23:34:00|   REALIZADO|\n",
      "|2021-01-07 08:20:00|2021-01-07 08:04:00|                 0|                 N/A|               X|                  KMIA|                 SBGL|               AAL|      0904|2021-01-06 23:45:00|2021-01-06 23:45:00|   REALIZADO|\n",
      "|2021-01-08 08:20:00|2021-01-08 08:04:00|                 0|                 N/A|               X|                  KMIA|                 SBGL|               AAL|      0904|2021-01-07 23:45:00|2021-01-07 23:42:00|   REALIZADO|\n",
      "|2021-01-09 08:20:00|2021-01-09 07:55:00|                 0|                 N/A|               X|                  KMIA|                 SBGL|               AAL|      0904|2021-01-08 23:45:00|2021-01-08 23:34:00|   REALIZADO|\n",
      "|2021-01-10 08:20:00|2021-01-10 19:20:00|                 0|                 N/A|               X|                  KMIA|                 SBGL|               AAL|      0904|2021-01-09 23:45:00|2021-01-10 11:02:00|   REALIZADO|\n",
      "|2021-01-11 08:20:00|2021-01-11 20:09:00|                 0|                 N/A|               X|                  KMIA|                 SBGL|               AAL|      0904|2021-01-10 23:45:00|2021-01-11 11:54:00|   REALIZADO|\n",
      "|2021-01-12 08:20:00|2021-01-12 08:20:00|                 0|                 N/A|               X|                  KMIA|                 SBGL|               AAL|      0904|2021-01-11 23:45:00|2021-01-11 23:47:00|   REALIZADO|\n",
      "|2021-01-13 08:20:00|2021-01-13 20:25:00|                 0|                 N/A|               X|                  KMIA|                 SBGL|               AAL|      0904|2021-01-12 23:45:00|2021-01-13 11:40:00|   REALIZADO|\n",
      "|2021-01-18 08:20:00|2021-01-18 19:30:00|                 0|                 N/A|               X|                  KMIA|                 SBGL|               AAL|      0904|2021-01-17 23:45:00|2021-01-18 10:41:00|   REALIZADO|\n",
      "|2021-01-14 08:20:00|2021-01-14 07:57:00|                 0|                 N/A|               X|                  KMIA|                 SBGL|               AAL|      0904|2021-01-13 23:45:00|2021-01-13 23:35:00|   REALIZADO|\n",
      "|2021-01-15 08:20:00|2021-01-15 07:55:00|                 0|                 N/A|               X|                  KMIA|                 SBGL|               AAL|      0904|2021-01-14 23:45:00|2021-01-14 23:34:00|   REALIZADO|\n",
      "|2021-01-16 08:20:00|2021-01-16 08:41:00|                 0|                 N/A|               X|                  KMIA|                 SBGL|               AAL|      0904|2021-01-15 23:45:00|2021-01-16 00:13:00|   REALIZADO|\n",
      "|2021-01-17 08:20:00|2021-01-17 07:59:00|                 0|                 N/A|               X|                  KMIA|                 SBGL|               AAL|      0904|2021-01-16 23:45:00|2021-01-16 23:36:00|   REALIZADO|\n",
      "|2021-01-20 08:20:00|2021-01-20 18:56:00|                 0|                 N/A|               X|                  KMIA|                 SBGL|               AAL|      0904|2021-01-19 23:45:00|2021-01-20 10:37:00|   REALIZADO|\n",
      "|2021-01-21 08:20:00|2021-01-21 07:59:00|                 0|                 N/A|               X|                  KMIA|                 SBGL|               AAL|      0904|2021-01-20 23:45:00|2021-01-20 23:30:00|   REALIZADO|\n",
      "|2021-01-22 08:20:00|2021-01-22 08:28:00|                 0|                 N/A|               X|                  KMIA|                 SBGL|               AAL|      0904|2021-01-21 23:45:00|2021-01-22 00:02:00|   REALIZADO|\n",
      "|2021-01-23 08:20:00|2021-01-23 19:20:00|                 0|                 N/A|               X|                  KMIA|                 SBGL|               AAL|      0904|2021-01-22 23:45:00|2021-01-23 10:54:00|   REALIZADO|\n",
      "|2021-01-24 08:20:00|2021-01-24 08:06:00|                 0|                 N/A|               X|                  KMIA|                 SBGL|               AAL|      0904|2021-01-23 23:45:00|2021-01-23 23:28:00|   REALIZADO|\n",
      "+-------------------+-------------------+------------------+--------------------+----------------+----------------------+---------------------+------------------+----------+-------------------+-------------------+------------+\n",
      "only showing top 20 rows\n",
      "\n"
     ]
    }
   ],
   "source": [
    "df_union.orderBy(\"icao_empresa_aérea\").show()"
   ]
  },
  {
   "cell_type": "markdown",
   "id": "bc74ad71",
   "metadata": {},
   "source": [
    "df_union.filter(onibusDF.col(\"icao_empresa_aérea\").equalTo(\"715M-10\")).show()\n",
    "\n",
    "'icao_aeródromo_destino',\n",
    " 'icao_aeródromo_origem',\n",
    "df_union.groupBy(\"icao_empresa_aérea\").count().show(50)\n"
   ]
  },
  {
   "cell_type": "code",
   "execution_count": 65,
   "id": "5df65a5a",
   "metadata": {},
   "outputs": [
    {
     "name": "stdout",
     "output_type": "stream",
     "text": [
      "+----------------------+-----+\n",
      "|icao_aeródromo_destino|count|\n",
      "+----------------------+-----+\n",
      "|                  SBPS| 5310|\n",
      "|                  KATL|  337|\n",
      "|                  LFPG|  612|\n",
      "|                  SBIH|  301|\n",
      "|                  SBSJ|   12|\n",
      "|                  OTHH|  776|\n",
      "|                  SCCF|    4|\n",
      "|                  SBCH| 1562|\n",
      "|                  SBCR|  176|\n",
      "|                  PANC|  132|\n",
      "|                  SBSG| 6055|\n",
      "|                  SBSO|   95|\n",
      "|                  SBFN| 1148|\n",
      "|                  SBLO| 2185|\n",
      "|                  LTBA|   94|\n",
      "|                  SBBV| 1139|\n",
      "|                  GVAC|  336|\n",
      "|                  SNGA|   30|\n",
      "|                  SBRP| 3075|\n",
      "|                  SBJP| 3858|\n",
      "|                  OMDB|  372|\n",
      "|                  SWLB|  101|\n",
      "|                  SBMO| 6629|\n",
      "|                  SBSV|19801|\n",
      "|                  SNTF|  253|\n",
      "|                  SBEG|10994|\n",
      "|                  SWKO|  269|\n",
      "|                  SNOX|   38|\n",
      "|                  FQMA|    1|\n",
      "|                  SJHG|   88|\n",
      "|                  SBMD|  300|\n",
      "|                  SBAR| 3203|\n",
      "|                  SBTF|  440|\n",
      "|                  SWPI|  482|\n",
      "|                  EGLL|  132|\n",
      "|                  SBRD|  209|\n",
      "|                  SBAE|  559|\n",
      "|                  SBPK|  239|\n",
      "|                  SBFI| 3224|\n",
      "|                  SBJA|  391|\n",
      "|                  SBBR|35648|\n",
      "|                  SLLP|    3|\n",
      "|                  SACO|    4|\n",
      "|                  MMMX|  612|\n",
      "|                  SBNF| 4850|\n",
      "|                  SBPF|   10|\n",
      "|                  SBCN|  240|\n",
      "|                  SBUY|  594|\n",
      "|                  EDDF| 1066|\n",
      "|                  SBMK| 1064|\n",
      "+----------------------+-----+\n",
      "only showing top 50 rows\n",
      "\n"
     ]
    }
   ],
   "source": [
    "df_union.groupBy(\"icao_aeródromo_destino\").count().show(50)"
   ]
  },
  {
   "cell_type": "code",
   "execution_count": 83,
   "id": "458aaaa7",
   "metadata": {},
   "outputs": [
    {
     "name": "stdout",
     "output_type": "stream",
     "text": [
      "+------------------+\n",
      "|icao_empresa_aérea|\n",
      "+------------------+\n",
      "|               TAM|\n",
      "|               TAM|\n",
      "|               TAM|\n",
      "|               TAM|\n",
      "|               TAM|\n",
      "|               TAM|\n",
      "|               TAM|\n",
      "|               TAM|\n",
      "|               TAM|\n",
      "|               TAM|\n",
      "|               TAM|\n",
      "|               TAM|\n",
      "|               TAM|\n",
      "|               TAM|\n",
      "|               TAM|\n",
      "|               TAM|\n",
      "|               TAM|\n",
      "|               TAM|\n",
      "|               TAM|\n",
      "|               TAM|\n",
      "+------------------+\n",
      "only showing top 20 rows\n",
      "\n"
     ]
    }
   ],
   "source": [
    "#SBSV\n",
    "#TAM\n",
    "#df_union.filter(df_union.col(\"icao_aeródromo_destino\").equalTo(\"TAM\")).show()\n",
    "\n",
    "df_union.select('icao_empresa_aérea').where(df_union.icao_empresa_aérea == 'TAM').show()"
   ]
  },
  {
   "cell_type": "code",
   "execution_count": null,
   "id": "f1b5fb2a",
   "metadata": {},
   "outputs": [],
   "source": [
    "#df_union.select(['situação_voo','icao_empresa_aérea']).where(df_union.('situação_voo'=='REALIZADO',).show(1)"
   ]
  },
  {
   "cell_type": "code",
   "execution_count": 89,
   "id": "30b084e7",
   "metadata": {},
   "outputs": [
    {
     "name": "stdout",
     "output_type": "stream",
     "text": [
      "+------------------+------------+\n",
      "|icao_empresa_aérea|situação_voo|\n",
      "+------------------+------------+\n",
      "|               MWM|   REALIZADO|\n",
      "|               MWM|   REALIZADO|\n",
      "|               MWM|   REALIZADO|\n",
      "|               MWM|   REALIZADO|\n",
      "|               MWM|   REALIZADO|\n",
      "|               MWM|   REALIZADO|\n",
      "|               MWM|   REALIZADO|\n",
      "|               MWM|   REALIZADO|\n",
      "|               MWM|   REALIZADO|\n",
      "|               MWM|   REALIZADO|\n",
      "|               MWM|   REALIZADO|\n",
      "|               MWM|   REALIZADO|\n",
      "|               MWM|   REALIZADO|\n",
      "|               MWM|   REALIZADO|\n",
      "|               MWM|   REALIZADO|\n",
      "|               MWM|   REALIZADO|\n",
      "|               MWM|   REALIZADO|\n",
      "|               MWM|   REALIZADO|\n",
      "|               MWM|   REALIZADO|\n",
      "|               MWM|   REALIZADO|\n",
      "+------------------+------------+\n",
      "only showing top 20 rows\n",
      "\n"
     ]
    }
   ],
   "source": [
    "df_union.select(['icao_empresa_aérea', 'situação_voo']).where(df_union.situação_voo == 'REALIZADO').show()"
   ]
  },
  {
   "cell_type": "code",
   "execution_count": 90,
   "id": "819b527c",
   "metadata": {},
   "outputs": [
    {
     "data": {
      "text/plain": [
       "['chegada_prevista',\n",
       " 'chegada_real',\n",
       " 'código_autorização',\n",
       " 'código_justificativa',\n",
       " 'código_tipoLinha',\n",
       " 'icao_aeródromo_destino',\n",
       " 'icao_aeródromo_origem',\n",
       " 'icao_empresa_aérea',\n",
       " 'número_voo',\n",
       " 'partida_prevista',\n",
       " 'partida_real',\n",
       " 'situação_voo']"
      ]
     },
     "execution_count": 90,
     "metadata": {},
     "output_type": "execute_result"
    }
   ],
   "source": [
    "df_union.columns"
   ]
  },
  {
   "cell_type": "code",
   "execution_count": 92,
   "id": "6fc7545e",
   "metadata": {},
   "outputs": [
    {
     "ename": "SyntaxError",
     "evalue": "unexpected EOF while parsing (Temp/ipykernel_17432/3881447961.py, line 2)",
     "output_type": "error",
     "traceback": [
      "\u001b[1;36m  File \u001b[1;32m\"C:\\Users\\Renato\\AppData\\Local\\Temp/ipykernel_17432/3881447961.py\"\u001b[1;36m, line \u001b[1;32m2\u001b[0m\n\u001b[1;33m    df_union.filter((df_union.icao_empresa_aérea=='TAM')& (df_union.icao_aeródromo_origem!=df_union.icao_aeródromo_destino).show()\u001b[0m\n\u001b[1;37m                                                                                                                                  ^\u001b[0m\n\u001b[1;31mSyntaxError\u001b[0m\u001b[1;31m:\u001b[0m unexpected EOF while parsing\n"
     ]
    }
   ],
   "source": [
    "# & (df_union.situação_voo==df.número_voo))\n",
    "df_union.filter((df_union.icao_empresa_aérea=='TAM') & (df_union.icao_aeródromo_origem!=df_union.icao_aeródromo_destino).show()"
   ]
  },
  {
   "cell_type": "code",
   "execution_count": 96,
   "id": "8d00128d",
   "metadata": {},
   "outputs": [
    {
     "name": "stdout",
     "output_type": "stream",
     "text": [
      "+-------------------+-------------------+------------------+--------------------+----------------+----------------------+---------------------+------------------+----------+-------------------+-------------------+------------+\n",
      "|   chegada_prevista|       chegada_real|código_autorização|código_justificativa|código_tipoLinha|icao_aeródromo_destino|icao_aeródromo_origem|icao_empresa_aérea|número_voo|   partida_prevista|       partida_real|situação_voo|\n",
      "+-------------------+-------------------+------------------+--------------------+----------------+----------------------+---------------------+------------------+----------+-------------------+-------------------+------------+\n",
      "|2021-01-19 14:45:00|2021-01-19 19:22:00|                 7|                 N/A|               C|                  SBEG|                 SBBE|               MWM|      9702|2021-01-19 12:35:00|2021-01-19 17:17:00|   REALIZADO|\n",
      "|2021-01-26 12:05:00|2021-01-26 12:04:00|                 7|                 N/A|               C|                  SBPA|                 SBGL|               MWM|      9701|2021-01-26 10:00:00|2021-01-26 09:55:00|   REALIZADO|\n",
      "|2021-01-18 23:20:00|2021-01-19 00:50:00|                 7|                 N/A|               C|                  SBBE|                 SBEG|               MWM|      9701|2021-01-18 21:15:00|2021-01-18 22:35:00|   REALIZADO|\n",
      "|2021-01-15 00:45:00|2021-01-15 00:39:00|                 0|                 N/A|               C|                  SBEG|                 SBGL|               MWM|      9700|2021-01-14 20:30:00|2021-01-14 20:27:00|   REALIZADO|\n",
      "|2021-01-24 15:10:00|2021-01-24 23:21:00|                 7|                 N/A|               C|                  SBEG|                 SBKP|               MWM|      9700|2021-01-24 11:30:00|2021-01-24 19:35:00|   REALIZADO|\n",
      "|2021-01-15 17:55:00|2021-01-15 18:00:00|                 2|                 N/A|               C|                  SBKP|                 SBEG|               MWM|      9203|2021-01-15 14:00:00|2021-01-15 14:05:00|   REALIZADO|\n",
      "|2021-01-30 15:35:00|2021-01-30 15:16:00|                 2|                 N/A|               C|                  SBKP|                 SBEG|               MWM|      9203|2021-01-30 11:40:00|2021-01-30 11:25:00|   REALIZADO|\n",
      "|2021-01-23 19:10:00|2021-01-23 19:31:00|                 2|                 N/A|               C|                  SBBR|                 SBEG|               MWM|      9203|2021-01-23 16:10:00|2021-01-23 16:36:00|   REALIZADO|\n",
      "|2021-01-14 14:40:00|2021-01-14 14:50:00|                 0|                 N/A|               C|                  SBRF|                 SBKP|               MWM|      5806|2021-01-14 11:30:00|2021-01-14 11:42:00|   REALIZADO|\n",
      "|2021-01-12 14:10:00|2021-01-12 14:48:00|                 0|                 N/A|               C|                  SBRF|                 SBKP|               MWM|      5806|2021-01-12 11:00:00|2021-01-12 11:21:00|   REALIZADO|\n",
      "|2021-01-07 14:10:00|2021-01-07 14:18:00|                 0|                 N/A|               C|                  SBRF|                 SBKP|               MWM|      5806|2021-01-07 11:00:00|2021-01-07 11:00:00|   REALIZADO|\n",
      "|2021-01-05 14:10:00|2021-01-05 14:51:00|                 0|                 N/A|               C|                  SBRF|                 SBKP|               MWM|      5806|2021-01-05 11:00:00|2021-01-05 11:35:00|   REALIZADO|\n",
      "|2021-01-28 12:45:00|2021-01-28 12:52:00|                 0|                 N/A|               C|                  SBKP|                 SBEG|               MWM|      5803|2021-01-28 08:50:00|2021-01-28 08:56:00|   REALIZADO|\n",
      "|2021-01-23 10:15:00|2021-01-23 10:19:00|                 0|                 N/A|               C|                  SBKP|                 SBEG|               MWM|      5803|2021-01-23 06:20:00|2021-01-23 06:26:00|   REALIZADO|\n",
      "|2021-01-19 09:45:00|2021-01-19 09:30:00|                 0|                 N/A|               C|                  SBKP|                 SBEG|               MWM|      5803|2021-01-19 02:50:00|2021-01-19 05:41:00|   REALIZADO|\n",
      "|2021-01-14 09:45:00|2021-01-14 09:32:00|                 0|                 N/A|               C|                  SBKP|                 SBEG|               MWM|      5803|2021-01-14 05:50:00|2021-01-14 05:46:00|   REALIZADO|\n",
      "|2021-01-05 08:05:00|2021-01-05 07:45:00|                 0|                 N/A|               C|                  SBKP|                 SBEG|               MWM|      5803|2021-01-05 04:10:00|2021-01-05 03:57:00|   REALIZADO|\n",
      "|2021-01-30 11:50:00|2021-01-30 11:53:00|                 0|                 N/A|               C|                  SBBR|                 SBEG|               MWM|      5803|2021-01-30 08:50:00|2021-01-30 08:41:00|   REALIZADO|\n",
      "|2021-01-26 11:50:00|2021-01-26 11:40:00|                 0|                 N/A|               C|                  SBBR|                 SBEG|               MWM|      5803|2021-01-26 08:50:00|2021-01-26 08:42:00|   REALIZADO|\n",
      "|2021-01-21 06:50:00|2021-01-21 06:50:00|                 0|                 N/A|               C|                  SBBR|                 SBEG|               MWM|      5803|2021-01-21 03:50:00|2021-01-21 03:52:00|   REALIZADO|\n",
      "+-------------------+-------------------+------------------+--------------------+----------------+----------------------+---------------------+------------------+----------+-------------------+-------------------+------------+\n",
      "only showing top 20 rows\n",
      "\n"
     ]
    }
   ],
   "source": [
    "df_union [df_union.situação_voo.isin(\"REALIZADO\", \"TAM\")].show()"
   ]
  },
  {
   "cell_type": "code",
   "execution_count": null,
   "id": "91d6f714",
   "metadata": {},
   "outputs": [],
   "source": []
  }
 ],
 "metadata": {
  "kernelspec": {
   "display_name": "Python 3 (ipykernel)",
   "language": "python",
   "name": "python3"
  },
  "language_info": {
   "codemirror_mode": {
    "name": "ipython",
    "version": 3
   },
   "file_extension": ".py",
   "mimetype": "text/x-python",
   "name": "python",
   "nbconvert_exporter": "python",
   "pygments_lexer": "ipython3",
   "version": "3.9.7"
  }
 },
 "nbformat": 4,
 "nbformat_minor": 5
}
