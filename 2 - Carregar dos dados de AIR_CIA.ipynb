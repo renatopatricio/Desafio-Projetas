{
 "cells": [
  {
   "cell_type": "code",
   "execution_count": 1,
   "id": "d94ea9a4",
   "metadata": {},
   "outputs": [],
   "source": [
    "from pyspark.sql import SparkSession\n",
    "\n",
    "from pyspark.sql.functions import *\n",
    "\n",
    "from pyspark.sql.types import *"
   ]
  },
  {
   "cell_type": "code",
   "execution_count": 3,
   "id": "3741d1a8",
   "metadata": {},
   "outputs": [],
   "source": [
    "spark = (\n",
    "    SparkSession.builder\n",
    "    .master('local')\n",
    "    .appName('Projetas_AIR_CIA')\n",
    "    .getOrCreate()\n",
    ")"
   ]
  },
  {
   "cell_type": "code",
   "execution_count": 16,
   "id": "faf31e2f",
   "metadata": {},
   "outputs": [
    {
     "name": "stdout",
     "output_type": "stream",
     "text": [
      "+--------------------+---------+------------------+--------------------+--------------------+--------------------+--------------------+--------------------+------------------------+--------------------+\n",
      "|        Razão Social|ICAO IATA|              CNPJ|   Atividades Aéreas|       Endereço Sede|            Telefone|              E-Mail| Decisão Operacional|Data Decisão Operacional|Validade Operacional|\n",
      "+--------------------+---------+------------------+--------------------+--------------------+--------------------+--------------------+--------------------+------------------------+--------------------+\n",
      "|ABSA - AEROLINHAS...|   LTG M3|00.074.635/0001-33|TRANSPORTE AÉREO ...|AEROPORTO INTERNA...|      (11) 5582-8055|      gar@tam.com.br|       DECISÃO Nº 41|              22/04/2015|          23/04/2025|\n",
      "|AEROSUL TÁXI AÉRE...|   ASO 2S|27.315.694/0001-02|SERVIÇOS AÉREOS P...|RODOVIA PR 218, K...|      (43) 3176-4030|operacoes@aerosul...|      DECISÃO Nº 282|              10/02/2021|                null|\n",
      "|ASTA LINHAS AÉREA...|   SUL 0A|12.703.737/0001-50|SERVIÇOS AÉREOS P...|AV GOVERNADOR JOÃ...|(65) 3614-2684 / ...|                null|      DECISÃO Nº 115|              31/07/2019|          02/08/2024|\n",
      "|ATA - AEROTÁXI AB...|      ABJ|14.674.451/0001-19|TÁXI-AÉREO, TRANS...| PÇA. GAGO COUTIN...|(71) 34629600 / (...|guilherme@abaete....|       DECISÃO Nº 36|              05/03/2020|                null|\n",
      "|AZUL CONECTA LTDA...|   ACN 2F|04.263.318/0001-16|TRANSPORTE AÉREO ...|AVENIDA EMILIO AN...|(11) 45822355/ (1...|                null|Decisão nº 14, de...|              25/01/2018|          29/01/2028|\n",
      "|AZUL LINHAS AÉREA...|   AZU AD|09.296.295/0001-60|TRANSPORTE AÉREO ...|AV. MARCOS PENTEA...| (55) (11) 4134-9...|vanessa.reis@voea...|      Decisão nº 178|              20/11/2018|          21/11/2028|\n",
      "|GOL LINHAS AÉREAS...|   GLO G3|07.575.651/0001-59|TRANSPORTE AÉREO ...|PRAÇA SENADOR SAL...|(11) 5098-2990 / ...|rddfonseca@voegol...|      DECISÃO Nº 156|              05/11/2019|                null|\n",
      "|MAP TRANSPORTES A...|   PAM 7M|10.483.635/0001-40|TRANSPORTE AÉREO ...|AVENIDA SANTOS DU...|       (92) 36521620|contabil@voemap.c...|       DECISÃO Nº 89|              14/08/2012|          17/08/2022|\n",
      "|MODERN TRANSPORTE...|   MWM WD|03.887.831/0001-15|TRANSPORTE AÉREO ...|AVENIDA PREFEITO ...|(21) 2272-9272 / ...|juridico@modern.c...|       DECISÃO Nº 79|              31/05/2017|          02/06/2027|\n",
      "|PASSAREDO TRANSPO...|   PTB 2Z|00.512.777/0001-35|TRANSPORTE AÉREO ...|SETOR DE HANGARES...|(16) 3514-7127 / ...|juridico@voepass....|      DECISÃO Nº 105|              09/06/2020|                null|\n",
      "|SIDERAL LINHAS AÉ...|   SID 0S|10.919.908/0001-57|TRANSPORTE AÉREO ...|RODOVIA CONTORNO ...|(41) 3116-9000 / ...|office@siderallin...|       DECISÃO Nº 37|              05/03/2020|          06/03/2025|\n",
      "|TAM LINHAS AÉREAS...|   TAM JJ|02.012.862/0001-60|TRANSPORTE AÉREO ...|RUA ÁTICA , N° 67...|(11) 5582-8055 / ...|   gar@tam.com.br   |      DECISÃO Nº 366|              07/07/2021|          09/11/2031|\n",
      "|TOTAL LINHAS AÉRE...|   TTL L1|32.068.363/0001-55|SERVIÇOS AÉREOS P...|AV. SENADOR SALGA...|(41) 3371-8200 / ...|geraldo.antonio@t...|      DECISÃO Nº 260|              12/01/2021|          14/01/2031|\n",
      "+--------------------+---------+------------------+--------------------+--------------------+--------------------+--------------------+--------------------+------------------------+--------------------+\n",
      "\n"
     ]
    }
   ],
   "source": [
    "df = spark.read.csv('E:\\Desafio Projetas\\AIR_CIA\\AIR_CIA\\ANAC_20211220_203627.csv', sep=';', header=True, inferSchema=True)\n",
    "df.show()\n",
    "\n"
   ]
  },
  {
   "cell_type": "code",
   "execution_count": 17,
   "id": "c9e036ec",
   "metadata": {},
   "outputs": [
    {
     "name": "stdout",
     "output_type": "stream",
     "text": [
      "root\n",
      " |-- Razão Social: string (nullable = true)\n",
      " |-- ICAO IATA: string (nullable = true)\n",
      " |-- CNPJ: string (nullable = true)\n",
      " |-- Atividades Aéreas: string (nullable = true)\n",
      " |-- Endereço Sede: string (nullable = true)\n",
      " |-- Telefone: string (nullable = true)\n",
      " |-- E-Mail: string (nullable = true)\n",
      " |-- Decisão Operacional: string (nullable = true)\n",
      " |-- Data Decisão Operacional: string (nullable = true)\n",
      " |-- Validade Operacional: string (nullable = true)\n",
      "\n"
     ]
    }
   ],
   "source": [
    "df.printSchema()"
   ]
  },
  {
   "cell_type": "code",
   "execution_count": 18,
   "id": "75d80e77",
   "metadata": {},
   "outputs": [
    {
     "data": {
      "text/plain": [
       "Razão Social                0\n",
       "ICAO IATA                   0\n",
       "CNPJ                        0\n",
       "Atividades Aéreas           0\n",
       "Endereço Sede               0\n",
       "Telefone                    0\n",
       "E-Mail                      2\n",
       "Decisão Operacional         0\n",
       "Data Decisão Operacional    0\n",
       "Validade Operacional        4\n",
       "dtype: int64"
      ]
     },
     "execution_count": 18,
     "metadata": {},
     "output_type": "execute_result"
    }
   ],
   "source": [
    "df.toPandas().isna().sum()"
   ]
  },
  {
   "cell_type": "code",
   "execution_count": 19,
   "id": "d58a14c8",
   "metadata": {},
   "outputs": [
    {
     "data": {
      "text/plain": [
       "['Razão Social',\n",
       " 'ICAO IATA',\n",
       " 'CNPJ',\n",
       " 'Atividades Aéreas',\n",
       " 'Endereço Sede',\n",
       " 'Telefone',\n",
       " 'E-Mail',\n",
       " 'Decisão Operacional',\n",
       " 'Data Decisão Operacional',\n",
       " 'Validade Operacional']"
      ]
     },
     "execution_count": 19,
     "metadata": {},
     "output_type": "execute_result"
    }
   ],
   "source": [
    "df.columns"
   ]
  },
  {
   "cell_type": "code",
   "execution_count": 20,
   "id": "83860b8b",
   "metadata": {},
   "outputs": [
    {
     "name": "stdout",
     "output_type": "stream",
     "text": [
      "Razão Social 0\n",
      "ICAO IATA 0\n",
      "CNPJ 0\n",
      "Atividades Aéreas 0\n",
      "Endereço Sede 0\n",
      "Telefone 0\n",
      "E-Mail 2\n",
      "Decisão Operacional 0\n",
      "Data Decisão Operacional 0\n",
      "Validade Operacional 4\n"
     ]
    }
   ],
   "source": [
    "for coluna in df.columns:\n",
    "    print(coluna, df.filter(df[coluna].isNull()).count())"
   ]
  },
  {
   "cell_type": "code",
   "execution_count": null,
   "id": "16145eeb",
   "metadata": {},
   "outputs": [],
   "source": []
  },
  {
   "cell_type": "code",
   "execution_count": 26,
   "id": "83394fd3",
   "metadata": {},
   "outputs": [
    {
     "name": "stdout",
     "output_type": "stream",
     "text": [
      "+--------------------+---------+------------------+--------------------+--------------------+--------------------+--------------------+--------------------+------------------------+--------------------+\n",
      "|        razão_social|icao_iata|              cnpj|   atividades_aéreas|       endereço_sede|            telefone|              e_mail| decisão_operacional|data_decisão_operacional|validade_operacional|\n",
      "+--------------------+---------+------------------+--------------------+--------------------+--------------------+--------------------+--------------------+------------------------+--------------------+\n",
      "|ABSA - AEROLINHAS...|   LTG M3|00.074.635/0001-33|TRANSPORTE AÉREO ...|AEROPORTO INTERNA...|      (11) 5582-8055|      gar@tam.com.br|       DECISÃO Nº 41|              22/04/2015|          23/04/2025|\n",
      "|AEROSUL TÁXI AÉRE...|   ASO 2S|27.315.694/0001-02|SERVIÇOS AÉREOS P...|RODOVIA PR 218, K...|      (43) 3176-4030|operacoes@aerosul...|      DECISÃO Nº 282|              10/02/2021|                null|\n",
      "|ASTA LINHAS AÉREA...|   SUL 0A|12.703.737/0001-50|SERVIÇOS AÉREOS P...|AV GOVERNADOR JOÃ...|(65) 3614-2684 / ...|                null|      DECISÃO Nº 115|              31/07/2019|          02/08/2024|\n",
      "|ATA - AEROTÁXI AB...|      ABJ|14.674.451/0001-19|TÁXI-AÉREO, TRANS...| PÇA. GAGO COUTIN...|(71) 34629600 / (...|guilherme@abaete....|       DECISÃO Nº 36|              05/03/2020|                null|\n",
      "|AZUL CONECTA LTDA...|   ACN 2F|04.263.318/0001-16|TRANSPORTE AÉREO ...|AVENIDA EMILIO AN...|(11) 45822355/ (1...|                null|Decisão nº 14, de...|              25/01/2018|          29/01/2028|\n",
      "+--------------------+---------+------------------+--------------------+--------------------+--------------------+--------------------+--------------------+------------------------+--------------------+\n",
      "only showing top 5 rows\n",
      "\n"
     ]
    }
   ],
   "source": [
    "df = df.withColumnRenamed('Razão Social', 'razão_social')\\\n",
    ".withColumnRenamed('ICAO IATA', 'icao_iata')\\\n",
    ".withColumnRenamed('CNPJ', 'cnpj')\\\n",
    ".withColumnRenamed('Atividades Aéreas', 'atividades_aéreas')\\\n",
    ".withColumnRenamed('Endereço Sede', 'endereço_sede')\\\n",
    ".withColumnRenamed('Telefone', 'telefone')\\\n",
    ".withColumnRenamed('E-Mail', 'e_mail')\\\n",
    ".withColumnRenamed('Decisão Operacional', 'decisão_operacional')\\\n",
    ".withColumnRenamed('Data Decisão Operacional', 'data_decisão_operacional')\\\n",
    ".withColumnRenamed('Validade Operacional', 'validade_operacional')\\\n",
    "\n",
    "df.show(5)"
   ]
  },
  {
   "cell_type": "code",
   "execution_count": 29,
   "id": "d2027a17",
   "metadata": {},
   "outputs": [
    {
     "name": "stdout",
     "output_type": "stream",
     "text": [
      "+------------------------------------------------------------------+---------+------------------+--------------------------------------------------------------------------------------------+--------------------------------------------------------------------------------------------------------------------------------------------------------------------+---------------------------------------------+-----------------------------------+----------------------------+------------------------+--------------------+\n",
      "|razão_social                                                      |icao_iata|cnpj              |atividades_aéreas                                                                           |endereço_sede                                                                                                                                                       |telefone                                     |e_mail                             |decisão_operacional         |data_decisão_operacional|validade_operacional|\n",
      "+------------------------------------------------------------------+---------+------------------+--------------------------------------------------------------------------------------------+--------------------------------------------------------------------------------------------------------------------------------------------------------------------+---------------------------------------------+-----------------------------------+----------------------------+------------------------+--------------------+\n",
      "|ABSA - AEROLINHAS BRASILEIRAS S.A.                                |LTG M3   |00.074.635/0001-33|TRANSPORTE AÉREO REGULAR                                                                    |AEROPORTO INTERNACIONAL DE VIRACOPOS, RODOVIA SANTOS DUMONT, KM 66, SISTEMA VIÁRIO PRINCIPAL, S/ Nº, 13.052-970, CAMPINAS-SP                                        |(11) 5582-8055                               |gar@tam.com.br                     |DECISÃO Nº 41               |22/04/2015              |23/04/2025          |\n",
      "|AEROSUL TÁXI AÉREO LTDA (EX.: AUSTEN TÁXI AÉREO LTDA)             |ASO 2S   |27.315.694/0001-02|SERVIÇOS AÉREOS PÚBLICOS, TÁXI-AÉREO, TRANSPORTE AÉREO NÃO REGULAR, TRANSPORTE AÉREO REGULAR|RODOVIA PR 218, KM 7, JARDIM UNIVERSITÁRIO, AEROPORTO MUNICIPAL ALBERTO BERTELLI , 86.702-670, ARAPONGAS-PR                                                         |(43) 3176-4030                               |operacoes@aerosul.com.br           |DECISÃO Nº 282              |10/02/2021              |null                |\n",
      "|ASTA LINHAS AÉREAS LTDA ( EX - AMÉRICA DO SUL LINHAS AÉREAS LTDA.)|SUL 0A   |12.703.737/0001-50|SERVIÇOS AÉREOS PÚBLICOS, TRANSPORTE AÉREO REGULAR                                          |AV GOVERNADOR JOÃO PONCE DE ARRUDA, S/N, HANGAR AMÉRICA DO SUL ANEXO AO AEROP. MAL RONDON. CAIXA POSTAL N° 156, NO BAIRRO CENTRO-NORTE, 78.110-900, VÁRZEA GRANDE-MT|(65) 3614-2684 / (18) 2104-1000              |null                               |DECISÃO Nº 115              |31/07/2019              |02/08/2024          |\n",
      "|ATA - AEROTÁXI ABAETÉ LTDA.                                       |ABJ      |14.674.451/0001-19|TÁXI-AÉREO, TRANSPORTE AÉREO NÃO REGULAR, TRANSPORTE AÉREO REGULAR                          | PÇA. GAGO COUTINHO, S/N, AEROPORTO INTERNACIONAL DE SALVADOR DEPUTADO LUÍS EDUARDO MAGALHÃES - HANGAR - AEROPORTO, 41.510-045, SALVADOR-BA                         |(71) 34629600 / (71) 996643563               |guilherme@abaete.com.br            |DECISÃO Nº 36               |05/03/2020              |null                |\n",
      "|AZUL CONECTA LTDA. (EX TWO TAXI AEREO LTDA)                       |ACN 2F   |04.263.318/0001-16|TRANSPORTE AÉREO REGULAR                                                                    |AVENIDA EMILIO ANTONON, 901, BAIRRO CHÁCARA AEROPORTO, 13.212-010, JUNDIAÍ-SP                                                                                       |(11) 45822355/ (11) 987433988                |null                               |Decisão nº 14, de 25/01/2018|25/01/2018              |29/01/2028          |\n",
      "|AZUL LINHAS AÉREAS BRASILEIRAS S/A                                |AZU AD   |09.296.295/0001-60|TRANSPORTE AÉREO REGULAR                                                                    |AV. MARCOS PENTEADO ULHÔA RODRIGUES,N°939, 9° ANDAR TORRE JATOBÁ, COND. CASTELO BRANCO OFFICE PARK - TAMBORÉ, 06.460-040, BARUERI-SP                                | (55) (11) 4134-9887 | Fax: (55)(11)4134-9890|vanessa.reis@voeazul.com.br        |Decisão nº 178              |20/11/2018              |21/11/2028          |\n",
      "|GOL LINHAS AÉREAS S.A. (EX- VRG LINHAS AÉREAS S.A.)               |GLO G3   |07.575.651/0001-59|TRANSPORTE AÉREO REGULAR                                                                    |PRAÇA SENADOR SALGADO FILHO, S/N°, AEROPORTO SANTOS DUMONT, TÉRREO, ÁREA PÚBLICA, ENTRE OS EIXOS 46-48/0-P, 20.021-340, RIO DE JANEIRO-RJ                           |(11) 5098-2990 / (11) 5098-7872              |rddfonseca@voegol.com.br           |DECISÃO Nº 156              |05/11/2019              |null                |\n",
      "|MAP TRANSPORTES AÉREOS LTDA.                                      |PAM 7M   |10.483.635/0001-40|TRANSPORTE AÉREO REGULAR                                                                    |AVENIDA SANTOS DUMONT, Nº 1350, AEROPORTO INTERNACIONAL DE MANAUS EDUARDO GOMES - SAGUÃO DE EMBARQUE DO TPS I - HANGAR I, BAIRRO TARUMÃ, 69.041-000, MANAUS-AM      |(92) 36521620                                |contabil@voemap.com.br             |DECISÃO Nº 89               |14/08/2012              |17/08/2022          |\n",
      "|MODERN TRANSPORTE AEREO DE CARGA S.A                              |MWM WD   |03.887.831/0001-15|TRANSPORTE AÉREO REGULAR                                                                    |AVENIDA PREFEITO LUIZ LATORRE, Nº 9450, CONDOMINIO MASTER BUSINESS PARK, GALPÃO 17, SALA 1, VILA DAS HORTÊNCIAS, 13.209-430, JUNDIAÍ-SP                             |(21) 2272-9272 / (11) 31096750               |juridico@modern.com.br             |DECISÃO Nº 79               |31/05/2017              |02/06/2027          |\n",
      "|PASSAREDO TRANSPORTES AÉREOS S.A.                                 |PTB 2Z   |00.512.777/0001-35|TRANSPORTE AÉREO REGULAR                                                                    |SETOR DE HANGARES. ENTRADA PELA AV. THOMAZ ALBERTO WHATELY S/Nº, LOTES 14,16,20 E 22 AEROPORTO LEITE LOPES - JARDIM AEROPORTO, 14.078-550, RIBEIRÃO PRETO-SP        |(16) 3514-7127 / (16) 3514-7126              |juridico@voepass.com.br            |DECISÃO Nº 105              |09/06/2020              |null                |\n",
      "|SIDERAL LINHAS AÉREAS LTDA.                                       |SID 0S   |10.919.908/0001-57|TRANSPORTE AÉREO NÃO REGULAR, TRANSPORTE AÉREO REGULAR                                      |RODOVIA CONTORNO LESTE BR-116, Nº 9.119, 3º ANDAR, SALA 01, BAIRRO COSTEIRA. CAIXA POSTAL Nº 1054, 83.015-162, SÃO JOSÉ DOS PINHAIS-PR                              |(41) 3116-9000 / (41) 3116-9059              |office@siderallinhasaereas.com.br  |DECISÃO Nº 37               |05/03/2020              |06/03/2025          |\n",
      "|TAM LINHAS AÉREAS S.A.                                            |TAM JJ   |02.012.862/0001-60|TRANSPORTE AÉREO REGULAR                                                                    |RUA ÁTICA , N° 673, 6ª ANDAR, SALA 62, JARDIM BRASIL, 04.634-042, SÃO PAULO-SP                                                                                      |(11) 5582-8055 / (11) 5582-8050              |gar@tam.com.br                     |DECISÃO Nº 366              |07/07/2021              |09/11/2031          |\n",
      "|TOTAL LINHAS AÉREAS S.A.                                          |TTL L1   |32.068.363/0001-55|SERVIÇOS AÉREOS PÚBLICOS, TRANSPORTE AÉREO REGULAR                                          |AV. SENADOR SALGADO FILHO, 5397 SALA D - BAIRRO UBERABA, 81.580-000, CURITIBA-PR                                                                                    |(41) 3371-8200 / (31) 3343-8600              |geraldo.antonio@total.com.br       |DECISÃO Nº 260              |12/01/2021              |14/01/2031          |\n",
      "+------------------------------------------------------------------+---------+------------------+--------------------------------------------------------------------------------------------+--------------------------------------------------------------------------------------------------------------------------------------------------------------------+---------------------------------------------+-----------------------------------+----------------------------+------------------------+--------------------+\n",
      "\n"
     ]
    }
   ],
   "source": [
    "df.show (truncate = 0)"
   ]
  },
  {
   "cell_type": "markdown",
   "id": "f97c457d",
   "metadata": {},
   "source": [
    "## Separar a coluna 'ICAO IATA' em duas colunas, seu conteúdo está separado por espaço e pode não conter o código IATA, caso não contenha o código IATA, deixe o valor nulo."
   ]
  },
  {
   "cell_type": "code",
   "execution_count": 30,
   "id": "34bd47e8",
   "metadata": {},
   "outputs": [
    {
     "name": "stdout",
     "output_type": "stream",
     "text": [
      "+---------+\n",
      "|icao_iata|\n",
      "+---------+\n",
      "|   LTG M3|\n",
      "|   ASO 2S|\n",
      "|   SUL 0A|\n",
      "|      ABJ|\n",
      "|   ACN 2F|\n",
      "|   AZU AD|\n",
      "|   GLO G3|\n",
      "|   PAM 7M|\n",
      "|   MWM WD|\n",
      "|   PTB 2Z|\n",
      "|   SID 0S|\n",
      "|   TAM JJ|\n",
      "|   TTL L1|\n",
      "+---------+\n",
      "\n"
     ]
    }
   ],
   "source": [
    "df.select('icao_iata').show()"
   ]
  },
  {
   "cell_type": "code",
   "execution_count": 33,
   "id": "d7cdf9ff",
   "metadata": {},
   "outputs": [],
   "source": [
    "import pyspark\n"
   ]
  },
  {
   "cell_type": "code",
   "execution_count": 34,
   "id": "6cf20ad3",
   "metadata": {},
   "outputs": [],
   "source": [
    "split_cols = pyspark.sql.functions.split(df['icao_iata'], ' ')"
   ]
  },
  {
   "cell_type": "code",
   "execution_count": 36,
   "id": "70c4eae7",
   "metadata": {},
   "outputs": [],
   "source": [
    "df1 = df.withColumn('icao', split_cols.getItem(0)) \\\n",
    "    .withColumn('iata', split_cols.getItem(1))"
   ]
  },
  {
   "cell_type": "code",
   "execution_count": 37,
   "id": "0e28241b",
   "metadata": {},
   "outputs": [
    {
     "name": "stdout",
     "output_type": "stream",
     "text": [
      "+--------------------+---------+------------------+--------------------+--------------------+--------------------+--------------------+--------------------+------------------------+--------------------+----+----+\n",
      "|        razão_social|icao_iata|              cnpj|   atividades_aéreas|       endereço_sede|            telefone|              e_mail| decisão_operacional|data_decisão_operacional|validade_operacional|icao|iata|\n",
      "+--------------------+---------+------------------+--------------------+--------------------+--------------------+--------------------+--------------------+------------------------+--------------------+----+----+\n",
      "|ABSA - AEROLINHAS...|   LTG M3|00.074.635/0001-33|TRANSPORTE AÉREO ...|AEROPORTO INTERNA...|      (11) 5582-8055|      gar@tam.com.br|       DECISÃO Nº 41|              22/04/2015|          23/04/2025| LTG|  M3|\n",
      "|AEROSUL TÁXI AÉRE...|   ASO 2S|27.315.694/0001-02|SERVIÇOS AÉREOS P...|RODOVIA PR 218, K...|      (43) 3176-4030|operacoes@aerosul...|      DECISÃO Nº 282|              10/02/2021|                null| ASO|  2S|\n",
      "|ASTA LINHAS AÉREA...|   SUL 0A|12.703.737/0001-50|SERVIÇOS AÉREOS P...|AV GOVERNADOR JOÃ...|(65) 3614-2684 / ...|                null|      DECISÃO Nº 115|              31/07/2019|          02/08/2024| SUL|  0A|\n",
      "|ATA - AEROTÁXI AB...|      ABJ|14.674.451/0001-19|TÁXI-AÉREO, TRANS...| PÇA. GAGO COUTIN...|(71) 34629600 / (...|guilherme@abaete....|       DECISÃO Nº 36|              05/03/2020|                null| ABJ|null|\n",
      "|AZUL CONECTA LTDA...|   ACN 2F|04.263.318/0001-16|TRANSPORTE AÉREO ...|AVENIDA EMILIO AN...|(11) 45822355/ (1...|                null|Decisão nº 14, de...|              25/01/2018|          29/01/2028| ACN|  2F|\n",
      "|AZUL LINHAS AÉREA...|   AZU AD|09.296.295/0001-60|TRANSPORTE AÉREO ...|AV. MARCOS PENTEA...| (55) (11) 4134-9...|vanessa.reis@voea...|      Decisão nº 178|              20/11/2018|          21/11/2028| AZU|  AD|\n",
      "|GOL LINHAS AÉREAS...|   GLO G3|07.575.651/0001-59|TRANSPORTE AÉREO ...|PRAÇA SENADOR SAL...|(11) 5098-2990 / ...|rddfonseca@voegol...|      DECISÃO Nº 156|              05/11/2019|                null| GLO|  G3|\n",
      "|MAP TRANSPORTES A...|   PAM 7M|10.483.635/0001-40|TRANSPORTE AÉREO ...|AVENIDA SANTOS DU...|       (92) 36521620|contabil@voemap.c...|       DECISÃO Nº 89|              14/08/2012|          17/08/2022| PAM|  7M|\n",
      "|MODERN TRANSPORTE...|   MWM WD|03.887.831/0001-15|TRANSPORTE AÉREO ...|AVENIDA PREFEITO ...|(21) 2272-9272 / ...|juridico@modern.c...|       DECISÃO Nº 79|              31/05/2017|          02/06/2027| MWM|  WD|\n",
      "|PASSAREDO TRANSPO...|   PTB 2Z|00.512.777/0001-35|TRANSPORTE AÉREO ...|SETOR DE HANGARES...|(16) 3514-7127 / ...|juridico@voepass....|      DECISÃO Nº 105|              09/06/2020|                null| PTB|  2Z|\n",
      "|SIDERAL LINHAS AÉ...|   SID 0S|10.919.908/0001-57|TRANSPORTE AÉREO ...|RODOVIA CONTORNO ...|(41) 3116-9000 / ...|office@siderallin...|       DECISÃO Nº 37|              05/03/2020|          06/03/2025| SID|  0S|\n",
      "|TAM LINHAS AÉREAS...|   TAM JJ|02.012.862/0001-60|TRANSPORTE AÉREO ...|RUA ÁTICA , N° 67...|(11) 5582-8055 / ...|   gar@tam.com.br   |      DECISÃO Nº 366|              07/07/2021|          09/11/2031| TAM|  JJ|\n",
      "|TOTAL LINHAS AÉRE...|   TTL L1|32.068.363/0001-55|SERVIÇOS AÉREOS P...|AV. SENADOR SALGA...|(41) 3371-8200 / ...|geraldo.antonio@t...|      DECISÃO Nº 260|              12/01/2021|          14/01/2031| TTL|  L1|\n",
      "+--------------------+---------+------------------+--------------------+--------------------+--------------------+--------------------+--------------------+------------------------+--------------------+----+----+\n",
      "\n"
     ]
    }
   ],
   "source": [
    "df1.show()"
   ]
  },
  {
   "cell_type": "code",
   "execution_count": 42,
   "id": "b1f7a0b8",
   "metadata": {},
   "outputs": [
    {
     "name": "stdout",
     "output_type": "stream",
     "text": [
      "+----+----+\n",
      "|iata|icao|\n",
      "+----+----+\n",
      "|  M3| LTG|\n",
      "|  2S| ASO|\n",
      "|  0A| SUL|\n",
      "|null| ABJ|\n",
      "|  2F| ACN|\n",
      "|  AD| AZU|\n",
      "|  G3| GLO|\n",
      "|  7M| PAM|\n",
      "|  WD| MWM|\n",
      "|  2Z| PTB|\n",
      "|  0S| SID|\n",
      "|  JJ| TAM|\n",
      "|  L1| TTL|\n",
      "+----+----+\n",
      "\n"
     ]
    }
   ],
   "source": [
    "df1.select('iata', 'icao').show()"
   ]
  },
  {
   "cell_type": "code",
   "execution_count": null,
   "id": "539a7992",
   "metadata": {},
   "outputs": [],
   "source": []
  },
  {
   "cell_type": "code",
   "execution_count": null,
   "id": "e6e4db0e",
   "metadata": {},
   "outputs": [],
   "source": []
  }
 ],
 "metadata": {
  "kernelspec": {
   "display_name": "Python 3 (ipykernel)",
   "language": "python",
   "name": "python3"
  },
  "language_info": {
   "codemirror_mode": {
    "name": "ipython",
    "version": 3
   },
   "file_extension": ".py",
   "mimetype": "text/x-python",
   "name": "python",
   "nbconvert_exporter": "python",
   "pygments_lexer": "ipython3",
   "version": "3.9.7"
  }
 },
 "nbformat": 4,
 "nbformat_minor": 5
}
