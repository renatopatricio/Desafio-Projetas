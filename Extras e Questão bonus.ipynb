{
 "cells": [
  {
   "cell_type": "markdown",
   "id": "3525556c",
   "metadata": {},
   "source": [
    "Extras:\n",
    "\tDescrever qual estratégia você usaria para ingerir estes dados de forma incremental caso precise capturar esses dados a cada mes? \n",
    "\n",
    "- Acessar máquina, importar código Python e editar na nuvem. \n",
    "- Criar um bucket no CS e importar os dados\n",
    "- Criar um dataset no BQ\t\n",
    "- Executar processamento paralelo e transformações com o Dataflow\n",
    "- Consultar a integridade dos dados"
   ]
  },
  {
   "cell_type": "markdown",
   "id": "a8556021",
   "metadata": {},
   "source": [
    "Questão Bônus!\n",
    "\n",
    "Este processo deverá ser automatizado usando a ferramenta de orquestração\n",
    "de workflow Apache Airflow. Escreva uma DAG levando em conta as características de uso da base.\n",
    "\n",
    "- Criar a DAG\n",
    "- Criar o Webserver (interface do usuário)\n",
    "- Schedular os paipelines\n",
    "- Configurar o executor\n",
    "- Configurar o worker onde a DAG vai rodar.\n",
    "\n"
   ]
  },
  {
   "cell_type": "code",
   "execution_count": null,
   "id": "dc19f1da",
   "metadata": {},
   "outputs": [],
   "source": []
  }
 ],
 "metadata": {
  "kernelspec": {
   "display_name": "Python 3 (ipykernel)",
   "language": "python",
   "name": "python3"
  },
  "language_info": {
   "codemirror_mode": {
    "name": "ipython",
    "version": 3
   },
   "file_extension": ".py",
   "mimetype": "text/x-python",
   "name": "python",
   "nbconvert_exporter": "python",
   "pygments_lexer": "ipython3",
   "version": "3.9.7"
  }
 },
 "nbformat": 4,
 "nbformat_minor": 5
}
