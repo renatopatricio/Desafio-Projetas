{
 "cells": [
  {
   "cell_type": "code",
   "execution_count": 1,
   "id": "d68a1fa7",
   "metadata": {},
   "outputs": [],
   "source": [
    "import pandas as pd\n",
    "import numpy as np\n",
    "import pyspark\n",
    "import re"
   ]
  },
  {
   "cell_type": "code",
   "execution_count": 2,
   "id": "fa1d8581",
   "metadata": {},
   "outputs": [],
   "source": [
    "from pyspark.sql import SparkSession\n",
    "\n",
    "from pyspark.sql.functions import *\n",
    "\n",
    "from pyspark.sql.types import *"
   ]
  },
  {
   "cell_type": "code",
   "execution_count": 3,
   "id": "378c2571",
   "metadata": {},
   "outputs": [],
   "source": [
    "spark = (\n",
    "    SparkSession.builder\n",
    "    .master('local')\n",
    "    .appName('aerodromos')\n",
    "    .getOrCreate()\n",
    ")"
   ]
  },
  {
   "cell_type": "code",
   "execution_count": null,
   "id": "43e2ea30",
   "metadata": {},
   "outputs": [],
   "source": []
  },
  {
   "cell_type": "code",
   "execution_count": 26,
   "id": "53a57d86",
   "metadata": {},
   "outputs": [],
   "source": [
    "import json "
   ]
  },
  {
   "cell_type": "code",
   "execution_count": 27,
   "id": "d9df4227",
   "metadata": {},
   "outputs": [],
   "source": [
    "from pandas import json_normalize\n",
    "import json"
   ]
  },
  {
   "cell_type": "code",
   "execution_count": 38,
   "id": "bddb4893",
   "metadata": {},
   "outputs": [
    {
     "name": "stdout",
     "output_type": "stream",
     "text": [
      "{\"id\":6335,\"iata\":\"REC\",\"icao\":\"SBRF\",\"name\":\"Recife/Guararapes–Gilberto Freyre International Airport\",\"location\":\"Recife, Pernambuco, Brazil\",\"street_number\":\"s/n\",\"street\":\"Praça Ministro Salgado Filho\",\"city\":\"\",\"county\":\"Recife\",\"state\":\"Pernambuco\",\"country_iso\":\"BR\",\"country\":\"Brazil\",\"postal_code\":\"51210-902\",\"phone\":\"+55 81 3322-4188\",\"latitude\":-8.125932,\"longitude\":-34.924015,\"uct\":-180,\"website\":\"http://www4.infraero.gov.br/aeroportos/aeroporto-internacional-do-recife-guararapes-gilberto-freyre/\"}\n",
      "\n"
     ]
    }
   ],
   "source": [
    "import requests\n",
    "\n",
    "url = \"https://airport-info.p.rapidapi.com/airport\"\n",
    "\n",
    "querystring = {\"icao\":\"SBRF\"}\n",
    "\n",
    "headers = {\n",
    "\t\"X-RapidAPI-Host\": \"airport-info.p.rapidapi.com\",\n",
    "\t\"X-RapidAPI-Key\": \"72b9076aa0msh2ae6eed25b56183p171524jsn1ff5fa673927\"\n",
    "}\n",
    "\n",
    "response = requests.request(\"GET\", url, headers=headers, params=querystring)\n",
    "\n",
    "print(response.text)"
   ]
  },
  {
   "cell_type": "code",
   "execution_count": 39,
   "id": "bc48f400",
   "metadata": {},
   "outputs": [
    {
     "name": "stdout",
     "output_type": "stream",
     "text": [
      "     id iata  icao                                               name  \\\n",
      "0  6029  POA  SBPA                Salgado Filho International Airport   \n",
      "1  4500  MAO  SBEG                Eduardo Gomes International Airport   \n",
      "2   633  BEL  SBBE                  Val de Cans International Airport   \n",
      "3  7941  VCP  SBKP           Viracopos/Campinas International Airport   \n",
      "4   953  BSB  SBBR  Brasília International Airport (Presidente J. ...   \n",
      "5  6335  REC  SBRF  Recife/Guararapes–Gilberto Freyre Internationa...   \n",
      "\n",
      "                                  location street_number  \\\n",
      "0  Porto Alegre, Rio Grande do Sul, Brazil                 \n",
      "1                 Manaus, Amazonas, Brazil          1350   \n",
      "2                      Belém, Pará, Brazil           s/n   \n",
      "3  São Paulo / Campinas, São Paulo, Brazil         km 66   \n",
      "4       Brasília, Distrito Federal, Brazil                 \n",
      "5               Recife, Pernambuco, Brazil           s/n   \n",
      "\n",
      "                         street city        county  \\\n",
      "0                                     Porto Alegre   \n",
      "1             Av. Santos Dumont             Manaus   \n",
      "2           Avenida Júlio César              Belém   \n",
      "3         Rodovia Santos Dumont           Campinas   \n",
      "4                      Lago Sul           Brasília   \n",
      "5  Praça Ministro Salgado Filho             Recife   \n",
      "\n",
      "                        state country_iso country postal_code  \\\n",
      "0  State of Rio Grande do Sul          BR  Brazil               \n",
      "1                    Amazonas          BR  Brazil   69041-000   \n",
      "2                        Pará          BR  Brazil   66115-970   \n",
      "3                   São Paulo          BR  Brazil   13055-900   \n",
      "4            Distrito Federal          BR  Brazil   71608-900   \n",
      "5                  Pernambuco          BR  Brazil   51210-902   \n",
      "\n",
      "              phone   latitude  longitude  uct  \\\n",
      "0  +55 51 3358-2000 -29.993473 -51.175380 -180   \n",
      "1  +55 92 3652-1210  -3.035847 -60.046326 -240   \n",
      "2  +55 91 3210-6000  -1.382062 -48.477524 -180   \n",
      "3  +55 19 3725-5000 -23.008205 -47.137570 -180   \n",
      "4  +55 61 3364-9000 -15.869737 -47.917236 -180   \n",
      "5  +55 81 3322-4188  -8.125932 -34.924015 -180   \n",
      "\n",
      "                                             website  \n",
      "0  http://www4.infraero.gov.br/aeroportos/aeropor...  \n",
      "1  http://www4.infraero.gov.br/aeroportos/aeropor...  \n",
      "2  http://www4.infraero.gov.br/aeroportos/aeropor...  \n",
      "3                          http://www.viracopos.com/  \n",
      "4                               http://www.bsb.aero/  \n",
      "5  http://www4.infraero.gov.br/aeroportos/aeropor...  \n"
     ]
    }
   ],
   "source": [
    "aerodromos = '''\n",
    "{\n",
    "\"1\":\n",
    "        [\n",
    "        {\"id\":6029,\"iata\":\"POA\",\"icao\":\"SBPA\",\"name\":\"Salgado Filho International Airport\",\"location\":\"Porto Alegre, Rio Grande do Sul, Brazil\",\"street_number\":\"\",\"street\":\"\",\"city\":\"\",\"county\":\"Porto Alegre\",\"state\":\"State of Rio Grande do Sul\",\"country_iso\":\"BR\",\"country\":\"Brazil\",\"postal_code\":\"\",\"phone\":\"+55 51 3358-2000\",\"latitude\":-29.993473,\"longitude\":-51.17538,\"uct\":-180,\"website\":\"http://www4.infraero.gov.br/aeroportos/aeroporto-internacional-de-porto-alegre-salgado-filho/\"},       \n",
    "        {\"id\":4500,\"iata\":\"MAO\",\"icao\":\"SBEG\",\"name\":\"Eduardo Gomes International Airport\",\"location\":\"Manaus, Amazonas, Brazil\",\"street_number\":\"1350\",\"street\":\"Av. Santos Dumont\",\"city\":\"\",\"county\":\"Manaus\",\"state\":\"Amazonas\",\"country_iso\":\"BR\",\"country\":\"Brazil\",\"postal_code\":\"69041-000\",\"phone\":\"+55 92 3652-1210\",\"latitude\":-3.0358474,\"longitude\":-60.046326,\"uct\":-240,\"website\":\"http://www4.infraero.gov.br/aeroportos/aeroporto-internacional-de-manaus-eduardo-gomes/\"},        \n",
    "        {\"id\":633,\"iata\":\"BEL\",\"icao\":\"SBBE\",\"name\":\"Val de Cans International Airport\",\"location\":\"Belém, Pará, Brazil\",\"street_number\":\"s/n\",\"street\":\"Avenida Júlio César\",\"city\":\"\",\"county\":\"Belém\",\"state\":\"Pará\",\"country_iso\":\"BR\",\"country\":\"Brazil\",\"postal_code\":\"66115-970\",\"phone\":\"+55 91 3210-6000\",\"latitude\":-1.3820615,\"longitude\":-48.477524,\"uct\":-180,\"website\":\"http://www4.infraero.gov.br/aeroportos/aeroporto-internacional-de-belem-val-de-cans-julio-cezar-ribeiro/\"},\n",
    "        {\"id\":7941,\"iata\":\"VCP\",\"icao\":\"SBKP\",\"name\":\"Viracopos/Campinas International Airport\",\"location\":\"São Paulo / Campinas, São Paulo, Brazil\",\"street_number\":\"km 66\",\"street\":\"Rodovia Santos Dumont\",\"city\":\"\",\"county\":\"Campinas\",\"state\":\"São Paulo\",\"country_iso\":\"BR\",\"country\":\"Brazil\",\"postal_code\":\"13055-900\",\"phone\":\"+55 19 3725-5000\",\"latitude\":-23.008205,\"longitude\":-47.13757,\"uct\":-180,\"website\":\"http://www.viracopos.com/\"},\n",
    "        {\"id\":953,\"iata\":\"BSB\",\"icao\":\"SBBR\",\"name\":\"Brasília International Airport (Presidente J. Kubitschek Int'l Airport)\",\"location\":\"Brasília, Distrito Federal, Brazil\",\"street_number\":\"\",\"street\":\"Lago Sul\",\"city\":\"\",\"county\":\"Brasília\",\"state\":\"Distrito Federal\",\"country_iso\":\"BR\",\"country\":\"Brazil\",\"postal_code\":\"71608-900\",\"phone\":\"+55 61 3364-9000\",\"latitude\":-15.869737,\"longitude\":-47.917236,\"uct\":-180,\"website\":\"http://www.bsb.aero/\"},\n",
    "        {\"id\":6335,\"iata\":\"REC\",\"icao\":\"SBRF\",\"name\":\"Recife/Guararapes–Gilberto Freyre International Airport\",\"location\":\"Recife, Pernambuco, Brazil\",\"street_number\":\"s/n\",\"street\":\"Praça Ministro Salgado Filho\",\"city\":\"\",\"county\":\"Recife\",\"state\":\"Pernambuco\",\"country_iso\":\"BR\",\"country\":\"Brazil\",\"postal_code\":\"51210-902\",\"phone\":\"+55 81 3322-4188\",\"latitude\":-8.125932,\"longitude\":-34.924015,\"uct\":-180,\"website\":\"http://www4.infraero.gov.br/aeroportos/aeroporto-internacional-do-recife-guararapes-gilberto-freyre/\"}\n",
    "        ]\n",
    "        \n",
    "\n",
    "}\n",
    "    '''\n",
    "\n",
    "info = json.loads(aerodromos)\n",
    "\n",
    "df = json_normalize(info[\"1\"]) #Results contain the required data\n",
    "print(df)"
   ]
  },
  {
   "cell_type": "code",
   "execution_count": null,
   "id": "ef29891c",
   "metadata": {},
   "outputs": [],
   "source": []
  }
 ],
 "metadata": {
  "kernelspec": {
   "display_name": "Python 3 (ipykernel)",
   "language": "python",
   "name": "python3"
  },
  "language_info": {
   "codemirror_mode": {
    "name": "ipython",
    "version": 3
   },
   "file_extension": ".py",
   "mimetype": "text/x-python",
   "name": "python",
   "nbconvert_exporter": "python",
   "pygments_lexer": "ipython3",
   "version": "3.9.7"
  }
 },
 "nbformat": 4,
 "nbformat_minor": 5
}
