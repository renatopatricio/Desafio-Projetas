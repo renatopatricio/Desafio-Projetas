{
 "cells": [
  {
   "cell_type": "code",
   "execution_count": 1,
   "id": "f8f64901",
   "metadata": {},
   "outputs": [],
   "source": [
    "import os\n",
    "import sys"
   ]
  },
  {
   "cell_type": "code",
   "execution_count": 2,
   "id": "3f1d1c00",
   "metadata": {},
   "outputs": [],
   "source": [
    "from pyspark.sql import SparkSession\n",
    "\n",
    "from pyspark.sql.functions import *\n",
    "\n",
    "from pyspark.sql.types import *"
   ]
  },
  {
   "cell_type": "code",
   "execution_count": 3,
   "id": "ab42f5e8",
   "metadata": {},
   "outputs": [],
   "source": [
    "spark = (\n",
    "    SparkSession.builder\n",
    "    .master('local')\n",
    "    .appName('Projetas')\n",
    "    .getOrCreate()\n",
    ")\n"
   ]
  },
  {
   "cell_type": "code",
   "execution_count": 36,
   "id": "c811d1e8",
   "metadata": {},
   "outputs": [
    {
     "name": "stdout",
     "output_type": "stream",
     "text": [
      "+-------------------+-------------------+-----------------+-------------------+---------------+--------------------+-------------------+----------------+---------+-------------------+-------------------+-----------+\n",
      "|    ChegadaPrevista|        ChegadaReal|CódigoAutorização|CódigoJustificativa|CódigoTipoLinha|ICAOAeródromoDestino|ICAOAeródromoOrigem|ICAOEmpresaAérea|NúmeroVoo|    PartidaPrevista|        PartidaReal|SituaçãoVoo|\n",
      "+-------------------+-------------------+-----------------+-------------------+---------------+--------------------+-------------------+----------------+---------+-------------------+-------------------+-----------+\n",
      "|2021-01-19 14:45:00|2021-01-19 19:22:00|                7|                N/A|              C|                SBEG|               SBBE|             MWM|     9702|2021-01-19 12:35:00|2021-01-19 17:17:00|  REALIZADO|\n",
      "|2021-01-26 12:05:00|2021-01-26 12:04:00|                7|                N/A|              C|                SBPA|               SBGL|             MWM|     9701|2021-01-26 10:00:00|2021-01-26 09:55:00|  REALIZADO|\n",
      "|2021-01-18 23:20:00|2021-01-19 00:50:00|                7|                N/A|              C|                SBBE|               SBEG|             MWM|     9701|2021-01-18 21:15:00|2021-01-18 22:35:00|  REALIZADO|\n",
      "|2021-01-15 00:45:00|2021-01-15 00:39:00|                0|                N/A|              C|                SBEG|               SBGL|             MWM|     9700|2021-01-14 20:30:00|2021-01-14 20:27:00|  REALIZADO|\n",
      "|2021-01-24 15:10:00|2021-01-24 23:21:00|                7|                N/A|              C|                SBEG|               SBKP|             MWM|     9700|2021-01-24 11:30:00|2021-01-24 19:35:00|  REALIZADO|\n",
      "+-------------------+-------------------+-----------------+-------------------+---------------+--------------------+-------------------+----------------+---------+-------------------+-------------------+-----------+\n",
      "only showing top 5 rows\n",
      "\n"
     ]
    }
   ],
   "source": [
    "df = spark.read.json('VRA_20211.json')\n",
    "df.show(5)"
   ]
  },
  {
   "cell_type": "code",
   "execution_count": 37,
   "id": "2064bd6d",
   "metadata": {},
   "outputs": [
    {
     "name": "stdout",
     "output_type": "stream",
     "text": [
      "root\n",
      " |-- ChegadaPrevista: string (nullable = true)\n",
      " |-- ChegadaReal: string (nullable = true)\n",
      " |-- CódigoAutorização: string (nullable = true)\n",
      " |-- CódigoJustificativa: string (nullable = true)\n",
      " |-- CódigoTipoLinha: string (nullable = true)\n",
      " |-- ICAOAeródromoDestino: string (nullable = true)\n",
      " |-- ICAOAeródromoOrigem: string (nullable = true)\n",
      " |-- ICAOEmpresaAérea: string (nullable = true)\n",
      " |-- NúmeroVoo: string (nullable = true)\n",
      " |-- PartidaPrevista: string (nullable = true)\n",
      " |-- PartidaReal: string (nullable = true)\n",
      " |-- SituaçãoVoo: string (nullable = true)\n",
      "\n"
     ]
    }
   ],
   "source": [
    "df.printSchema()"
   ]
  },
  {
   "cell_type": "code",
   "execution_count": 38,
   "id": "81d0c48b",
   "metadata": {},
   "outputs": [
    {
     "data": {
      "text/plain": [
       "ChegadaPrevista          160\n",
       "ChegadaReal             2490\n",
       "CódigoAutorização          0\n",
       "CódigoJustificativa        0\n",
       "CódigoTipoLinha            0\n",
       "ICAOAeródromoDestino       0\n",
       "ICAOAeródromoOrigem        0\n",
       "ICAOEmpresaAérea           0\n",
       "NúmeroVoo                  0\n",
       "PartidaPrevista          160\n",
       "PartidaReal             2490\n",
       "SituaçãoVoo                0\n",
       "dtype: int64"
      ]
     },
     "execution_count": 38,
     "metadata": {},
     "output_type": "execute_result"
    }
   ],
   "source": [
    "df.toPandas().isna().sum()"
   ]
  },
  {
   "cell_type": "code",
   "execution_count": 39,
   "id": "1b58df2f",
   "metadata": {},
   "outputs": [
    {
     "name": "stdout",
     "output_type": "stream",
     "text": [
      "+-------------------+-------------------+------------------+--------------------+----------------+----------------------+---------------------+------------------+----------+-------------------+-------------------+------------+\n",
      "|   chegada_prevista|       chegada_real|código_autorização|código_justificativa|código_tipoLinha|icao_aeródromo_destino|icao_aeródromo_origem|icao_empresa_aérea|número_voo|   partida_prevista|       partida_real|situação_voo|\n",
      "+-------------------+-------------------+------------------+--------------------+----------------+----------------------+---------------------+------------------+----------+-------------------+-------------------+------------+\n",
      "|2021-01-19 14:45:00|2021-01-19 19:22:00|                 7|                 N/A|               C|                  SBEG|                 SBBE|               MWM|      9702|2021-01-19 12:35:00|2021-01-19 17:17:00|   REALIZADO|\n",
      "|2021-01-26 12:05:00|2021-01-26 12:04:00|                 7|                 N/A|               C|                  SBPA|                 SBGL|               MWM|      9701|2021-01-26 10:00:00|2021-01-26 09:55:00|   REALIZADO|\n",
      "|2021-01-18 23:20:00|2021-01-19 00:50:00|                 7|                 N/A|               C|                  SBBE|                 SBEG|               MWM|      9701|2021-01-18 21:15:00|2021-01-18 22:35:00|   REALIZADO|\n",
      "|2021-01-15 00:45:00|2021-01-15 00:39:00|                 0|                 N/A|               C|                  SBEG|                 SBGL|               MWM|      9700|2021-01-14 20:30:00|2021-01-14 20:27:00|   REALIZADO|\n",
      "|2021-01-24 15:10:00|2021-01-24 23:21:00|                 7|                 N/A|               C|                  SBEG|                 SBKP|               MWM|      9700|2021-01-24 11:30:00|2021-01-24 19:35:00|   REALIZADO|\n",
      "+-------------------+-------------------+------------------+--------------------+----------------+----------------------+---------------------+------------------+----------+-------------------+-------------------+------------+\n",
      "only showing top 5 rows\n",
      "\n"
     ]
    }
   ],
   "source": [
    "df = df.withColumnRenamed('ChegadaPrevista', 'chegada_prevista')\\\n",
    ".withColumnRenamed('ChegadaReal', 'chegada_real')\\\n",
    ".withColumnRenamed('CódigoAutorização', 'código_autorização')\\\n",
    ".withColumnRenamed('CódigoJustificativa', 'código_justificativa')\\\n",
    ".withColumnRenamed('CódigoTipoLinha', 'código_tipoLinha')\\\n",
    ".withColumnRenamed('ICAOAeródromoDestino', 'icao_aeródromo_destino')\\\n",
    ".withColumnRenamed('ICAOAeródromoOrigem', 'icao_aeródromo_origem')\\\n",
    ".withColumnRenamed('ICAOEmpresaAérea', 'icao_empresa_aérea')\\\n",
    ".withColumnRenamed('NúmeroVoo', 'número_voo')\\\n",
    ".withColumnRenamed('PartidaPrevista', 'partida_prevista')\\\n",
    ".withColumnRenamed('PartidaReal', 'partida_real')\\\n",
    ".withColumnRenamed('SituaçãoVoo', 'situação_voo')\\\n",
    "\n",
    "df.show(5)"
   ]
  },
  {
   "cell_type": "code",
   "execution_count": 40,
   "id": "ef298415",
   "metadata": {},
   "outputs": [
    {
     "data": {
      "text/plain": [
       "['chegada_prevista',\n",
       " 'chegada_real',\n",
       " 'código_autorização',\n",
       " 'código_justificativa',\n",
       " 'código_tipoLinha',\n",
       " 'icao_aeródromo_destino',\n",
       " 'icao_aeródromo_origem',\n",
       " 'icao_empresa_aérea',\n",
       " 'número_voo',\n",
       " 'partida_prevista',\n",
       " 'partida_real',\n",
       " 'situação_voo']"
      ]
     },
     "execution_count": 40,
     "metadata": {},
     "output_type": "execute_result"
    }
   ],
   "source": [
    "df.columns"
   ]
  },
  {
   "cell_type": "code",
   "execution_count": 41,
   "id": "b82887ed",
   "metadata": {},
   "outputs": [
    {
     "name": "stdout",
     "output_type": "stream",
     "text": [
      "chegada_prevista 160\n",
      "chegada_real 2490\n",
      "código_autorização 0\n",
      "código_justificativa 0\n",
      "código_tipoLinha 0\n",
      "icao_aeródromo_destino 0\n",
      "icao_aeródromo_origem 0\n",
      "icao_empresa_aérea 0\n",
      "número_voo 0\n",
      "partida_prevista 160\n",
      "partida_real 2490\n",
      "situação_voo 0\n"
     ]
    }
   ],
   "source": [
    "for coluna in df.columns:\n",
    "    print(coluna, df.filter(df[coluna].isNull()).count())"
   ]
  },
  {
   "cell_type": "code",
   "execution_count": 42,
   "id": "ead2b957",
   "metadata": {},
   "outputs": [
    {
     "name": "stdout",
     "output_type": "stream",
     "text": [
      "+----------------------+\n",
      "|icao_aeródromo_destino|\n",
      "+----------------------+\n",
      "|                  SBEG|\n",
      "|                  SBPA|\n",
      "|                  SBBE|\n",
      "|                  SBEG|\n",
      "|                  SBEG|\n",
      "|                  SBKP|\n",
      "|                  SBKP|\n",
      "|                  SBBR|\n",
      "|                  SBRF|\n",
      "|                  SBRF|\n",
      "|                  SBRF|\n",
      "|                  SBRF|\n",
      "|                  SBKP|\n",
      "|                  SBKP|\n",
      "|                  SBKP|\n",
      "|                  SBKP|\n",
      "|                  SBKP|\n",
      "|                  SBBR|\n",
      "|                  SBBR|\n",
      "|                  SBBR|\n",
      "+----------------------+\n",
      "only showing top 20 rows\n",
      "\n"
     ]
    }
   ],
   "source": [
    "df.select('icao_aeródromo_destino').show()"
   ]
  },
  {
   "cell_type": "code",
   "execution_count": 43,
   "id": "84953e22",
   "metadata": {},
   "outputs": [
    {
     "name": "stdout",
     "output_type": "stream",
     "text": [
      "+-------------------+-------------------+------------------+--------------------+----------------+----------------------+---------------------+------------------+----------+-------------------+-------------------+-------------+\n",
      "|   chegada_prevista|       chegada_real|código_autorização|código_justificativa|código_tipoLinha|icao_aeródromo_destino|icao_aeródromo_origem|icao_empresa_aérea|número_voo|   partida_prevista|       partida_real| situação_voo|\n",
      "+-------------------+-------------------+------------------+--------------------+----------------+----------------------+---------------------+------------------+----------+-------------------+-------------------+-------------+\n",
      "|2021-01-02 18:50:00|2021-01-02 19:07:00|                 0|                 N/A|               X|                  CYUL|                 SBGR|               ACA|      0097|2021-01-02 08:45:00|2021-01-02 08:45:00|    REALIZADO|\n",
      "|2021-01-04 08:45:00|2021-01-04 07:45:00|                 0|                 N/A|               X|                  CYYZ|                 SBGR|               ACA|      0091|2021-01-03 22:30:00|2021-01-03 22:29:00|    REALIZADO|\n",
      "|2021-01-31 18:30:00|               null|                 0|                 N/A|               G|                  DNMM|                 SCEL|               ETH|      3507|2021-01-31 06:45:00|               null|    CANCELADO|\n",
      "|2021-01-12 21:30:00|               null|                 2|                 N/A|               I|                  EBLG|                 SPJC|               ETH|      3500|2021-01-12 06:45:00|               null|    CANCELADO|\n",
      "|2021-01-26 01:25:00|2021-01-26 01:10:00|                 0|                 N/A|               X|                  EDDF|                 SBRF|               GEC|      8255|2021-01-25 15:30:00|2021-01-25 15:31:00|    REALIZADO|\n",
      "|2021-01-02 03:40:00|               null|                 0|                 N/A|               I|                  EGLL|                 SBGR|               BAW|      0246|2021-01-01 16:05:00|               null|    CANCELADO|\n",
      "|2021-01-27 10:50:00|               null|                 0|                 N/A|               G|                  EHAM|                 KMIA|               MPH|      6912|2021-01-27 02:30:00|               null|    CANCELADO|\n",
      "|2021-01-24 07:15:00|2021-01-24 07:27:00|                 9|                 N/A|               X|                  EKCH|                 SBGR|               SAS|      7006|2021-01-23 19:00:00|2021-01-23 19:19:00|    REALIZADO|\n",
      "|2021-01-31 05:00:00|               null|                 0|                 N/A|               G|                  ELLX|                 OTHH|               QTR|      8147|2021-01-30 22:15:00|               null|NÃO INFORMADO|\n",
      "|2021-01-23 06:00:00|               null|                 0|                 N/A|               I|                  FNLU|                 SBGR|               DTA|      0748|2021-01-22 20:45:00|               null|    CANCELADO|\n",
      "|2021-01-11 00:25:00|2021-01-11 02:00:00|                 2|                 N/A|               X|                  FQMA|                 SBCF|               ETH|      8302|2021-01-10 15:55:00|2021-01-10 15:56:00|    REALIZADO|\n",
      "|2021-01-02 19:50:00|2021-01-02 19:26:00|                 9|                 N/A|               X|                  GOBD|                 OMDB|               UAE|      9915|2021-01-02 09:30:00|2021-01-02 09:12:00|    REALIZADO|\n",
      "|2021-01-02 20:30:00|2021-01-02 22:34:00|                 0|                 N/A|               X|                  GVAC|                 EDDF|               LCO|      1501|2021-01-02 14:30:00|2021-01-02 16:11:00|    REALIZADO|\n",
      "|2021-01-31 13:30:00|2021-01-31 13:42:00|                 0|                 N/A|               X|                  HAAB|                 SBGR|               ETH|      0507|2021-01-31 01:30:00|2021-01-31 01:39:00|    REALIZADO|\n",
      "|2021-01-05 09:22:00|2021-01-05 09:05:00|                 0|                 N/A|               X|                  KATL|                 SBGR|               DAL|      0104|2021-01-04 23:30:00|2021-01-04 23:20:00|    REALIZADO|\n",
      "|2021-01-05 10:05:00|2021-01-05 09:58:00|                 0|                 N/A|               I|                  KBOS|                 SBGR|               TAM|      8164|2021-01-04 23:35:00|2021-01-04 23:54:00|    REALIZADO|\n",
      "|2021-01-02 09:50:00|2021-01-02 09:35:00|                 0|                 N/A|               X|                  KDFW|                 SBGR|               AAL|      0962|2021-01-01 23:20:00|2021-01-01 23:18:00|    REALIZADO|\n",
      "|2021-01-03 08:35:00|2021-01-03 08:26:00|                 0|                 N/A|               X|                  KEWR|                 SBGR|               UAL|      0148|2021-01-02 23:00:00|2021-01-02 22:56:00|    REALIZADO|\n",
      "|2021-01-20 08:35:00|2021-01-20 08:14:00|                 0|                 N/A|               I|                  KFLL|                 SBKP|               AZU|      8704|2021-01-19 23:55:00|2021-01-19 23:57:00|    REALIZADO|\n",
      "|2021-01-02 09:30:00|2021-01-02 09:17:00|                 0|                 N/A|               X|                  KIAH|                 SBGR|               UAL|      0063|2021-01-01 23:45:00|2021-01-01 23:40:00|    REALIZADO|\n",
      "+-------------------+-------------------+------------------+--------------------+----------------+----------------------+---------------------+------------------+----------+-------------------+-------------------+-------------+\n",
      "only showing top 20 rows\n",
      "\n"
     ]
    }
   ],
   "source": [
    "df.dropDuplicates(['icao_aeródromo_destino']).show()\n",
    "spark.stop()"
   ]
  },
  {
   "cell_type": "code",
   "execution_count": 31,
   "id": "6db06ef5",
   "metadata": {},
   "outputs": [
    {
     "data": {
      "text/plain": [
       "['chegada_prevista',\n",
       " 'chegada_real',\n",
       " 'código_autorização',\n",
       " 'código_justificativa',\n",
       " 'código_tipoLinha',\n",
       " 'icao_aeródromo_destino',\n",
       " 'icao_aeródromo_origem',\n",
       " 'icao_empresa_aérea',\n",
       " 'número_voo',\n",
       " 'partida_prevista',\n",
       " 'partida_real',\n",
       " 'situação_voo']"
      ]
     },
     "execution_count": 31,
     "metadata": {},
     "output_type": "execute_result"
    }
   ],
   "source": [
    "df.columns"
   ]
  },
  {
   "cell_type": "code",
   "execution_count": 45,
   "id": "90f652a1",
   "metadata": {},
   "outputs": [
    {
     "ename": "AttributeError",
     "evalue": "'NoneType' object has no attribute '_jvm'",
     "output_type": "error",
     "traceback": [
      "\u001b[1;31m---------------------------------------------------------------------------\u001b[0m",
      "\u001b[1;31mAttributeError\u001b[0m                            Traceback (most recent call last)",
      "\u001b[1;32m~\\AppData\\Local\\Temp/ipykernel_14112/514838160.py\u001b[0m in \u001b[0;36m<module>\u001b[1;34m\u001b[0m\n\u001b[1;32m----> 1\u001b[1;33m \u001b[0mdf\u001b[0m\u001b[1;33m.\u001b[0m\u001b[0mselect\u001b[0m\u001b[1;33m(\u001b[0m\u001b[1;34m'icao_aeródromo_destino'\u001b[0m\u001b[1;33m)\u001b[0m\u001b[1;33m.\u001b[0m\u001b[0mshow\u001b[0m\u001b[1;33m(\u001b[0m\u001b[1;33m)\u001b[0m\u001b[1;33m\u001b[0m\u001b[1;33m\u001b[0m\u001b[0m\n\u001b[0m",
      "\u001b[1;32mE:\\SW\\Anaconda\\lib\\site-packages\\pyspark\\sql\\dataframe.py\u001b[0m in \u001b[0;36mselect\u001b[1;34m(self, *cols)\u001b[0m\n\u001b[0;32m   1683\u001b[0m         \u001b[1;33m[\u001b[0m\u001b[0mRow\u001b[0m\u001b[1;33m(\u001b[0m\u001b[0mname\u001b[0m\u001b[1;33m=\u001b[0m\u001b[1;34m'Alice'\u001b[0m\u001b[1;33m,\u001b[0m \u001b[0mage\u001b[0m\u001b[1;33m=\u001b[0m\u001b[1;36m12\u001b[0m\u001b[1;33m)\u001b[0m\u001b[1;33m,\u001b[0m \u001b[0mRow\u001b[0m\u001b[1;33m(\u001b[0m\u001b[0mname\u001b[0m\u001b[1;33m=\u001b[0m\u001b[1;34m'Bob'\u001b[0m\u001b[1;33m,\u001b[0m \u001b[0mage\u001b[0m\u001b[1;33m=\u001b[0m\u001b[1;36m15\u001b[0m\u001b[1;33m)\u001b[0m\u001b[1;33m]\u001b[0m\u001b[1;33m\u001b[0m\u001b[1;33m\u001b[0m\u001b[0m\n\u001b[0;32m   1684\u001b[0m         \"\"\"\n\u001b[1;32m-> 1685\u001b[1;33m         \u001b[0mjdf\u001b[0m \u001b[1;33m=\u001b[0m \u001b[0mself\u001b[0m\u001b[1;33m.\u001b[0m\u001b[0m_jdf\u001b[0m\u001b[1;33m.\u001b[0m\u001b[0mselect\u001b[0m\u001b[1;33m(\u001b[0m\u001b[0mself\u001b[0m\u001b[1;33m.\u001b[0m\u001b[0m_jcols\u001b[0m\u001b[1;33m(\u001b[0m\u001b[1;33m*\u001b[0m\u001b[0mcols\u001b[0m\u001b[1;33m)\u001b[0m\u001b[1;33m)\u001b[0m\u001b[1;33m\u001b[0m\u001b[1;33m\u001b[0m\u001b[0m\n\u001b[0m\u001b[0;32m   1686\u001b[0m         \u001b[1;32mreturn\u001b[0m \u001b[0mDataFrame\u001b[0m\u001b[1;33m(\u001b[0m\u001b[0mjdf\u001b[0m\u001b[1;33m,\u001b[0m \u001b[0mself\u001b[0m\u001b[1;33m.\u001b[0m\u001b[0msql_ctx\u001b[0m\u001b[1;33m)\u001b[0m\u001b[1;33m\u001b[0m\u001b[1;33m\u001b[0m\u001b[0m\n\u001b[0;32m   1687\u001b[0m \u001b[1;33m\u001b[0m\u001b[0m\n",
      "\u001b[1;32mE:\\SW\\Anaconda\\lib\\site-packages\\pyspark\\sql\\dataframe.py\u001b[0m in \u001b[0;36m_jcols\u001b[1;34m(self, *cols)\u001b[0m\n\u001b[0;32m   1439\u001b[0m         \u001b[1;32mif\u001b[0m \u001b[0mlen\u001b[0m\u001b[1;33m(\u001b[0m\u001b[0mcols\u001b[0m\u001b[1;33m)\u001b[0m \u001b[1;33m==\u001b[0m \u001b[1;36m1\u001b[0m \u001b[1;32mand\u001b[0m \u001b[0misinstance\u001b[0m\u001b[1;33m(\u001b[0m\u001b[0mcols\u001b[0m\u001b[1;33m[\u001b[0m\u001b[1;36m0\u001b[0m\u001b[1;33m]\u001b[0m\u001b[1;33m,\u001b[0m \u001b[0mlist\u001b[0m\u001b[1;33m)\u001b[0m\u001b[1;33m:\u001b[0m\u001b[1;33m\u001b[0m\u001b[1;33m\u001b[0m\u001b[0m\n\u001b[0;32m   1440\u001b[0m             \u001b[0mcols\u001b[0m \u001b[1;33m=\u001b[0m \u001b[0mcols\u001b[0m\u001b[1;33m[\u001b[0m\u001b[1;36m0\u001b[0m\u001b[1;33m]\u001b[0m\u001b[1;33m\u001b[0m\u001b[1;33m\u001b[0m\u001b[0m\n\u001b[1;32m-> 1441\u001b[1;33m         \u001b[1;32mreturn\u001b[0m \u001b[0mself\u001b[0m\u001b[1;33m.\u001b[0m\u001b[0m_jseq\u001b[0m\u001b[1;33m(\u001b[0m\u001b[0mcols\u001b[0m\u001b[1;33m,\u001b[0m \u001b[0m_to_java_column\u001b[0m\u001b[1;33m)\u001b[0m\u001b[1;33m\u001b[0m\u001b[1;33m\u001b[0m\u001b[0m\n\u001b[0m\u001b[0;32m   1442\u001b[0m \u001b[1;33m\u001b[0m\u001b[0m\n\u001b[0;32m   1443\u001b[0m     \u001b[1;32mdef\u001b[0m \u001b[0m_sort_cols\u001b[0m\u001b[1;33m(\u001b[0m\u001b[0mself\u001b[0m\u001b[1;33m,\u001b[0m \u001b[0mcols\u001b[0m\u001b[1;33m,\u001b[0m \u001b[0mkwargs\u001b[0m\u001b[1;33m)\u001b[0m\u001b[1;33m:\u001b[0m\u001b[1;33m\u001b[0m\u001b[1;33m\u001b[0m\u001b[0m\n",
      "\u001b[1;32mE:\\SW\\Anaconda\\lib\\site-packages\\pyspark\\sql\\dataframe.py\u001b[0m in \u001b[0;36m_jseq\u001b[1;34m(self, cols, converter)\u001b[0m\n\u001b[0;32m   1426\u001b[0m     \u001b[1;32mdef\u001b[0m \u001b[0m_jseq\u001b[0m\u001b[1;33m(\u001b[0m\u001b[0mself\u001b[0m\u001b[1;33m,\u001b[0m \u001b[0mcols\u001b[0m\u001b[1;33m,\u001b[0m \u001b[0mconverter\u001b[0m\u001b[1;33m=\u001b[0m\u001b[1;32mNone\u001b[0m\u001b[1;33m)\u001b[0m\u001b[1;33m:\u001b[0m\u001b[1;33m\u001b[0m\u001b[1;33m\u001b[0m\u001b[0m\n\u001b[0;32m   1427\u001b[0m         \u001b[1;34m\"\"\"Return a JVM Seq of Columns from a list of Column or names\"\"\"\u001b[0m\u001b[1;33m\u001b[0m\u001b[1;33m\u001b[0m\u001b[0m\n\u001b[1;32m-> 1428\u001b[1;33m         \u001b[1;32mreturn\u001b[0m \u001b[0m_to_seq\u001b[0m\u001b[1;33m(\u001b[0m\u001b[0mself\u001b[0m\u001b[1;33m.\u001b[0m\u001b[0msql_ctx\u001b[0m\u001b[1;33m.\u001b[0m\u001b[0m_sc\u001b[0m\u001b[1;33m,\u001b[0m \u001b[0mcols\u001b[0m\u001b[1;33m,\u001b[0m \u001b[0mconverter\u001b[0m\u001b[1;33m)\u001b[0m\u001b[1;33m\u001b[0m\u001b[1;33m\u001b[0m\u001b[0m\n\u001b[0m\u001b[0;32m   1429\u001b[0m \u001b[1;33m\u001b[0m\u001b[0m\n\u001b[0;32m   1430\u001b[0m     \u001b[1;32mdef\u001b[0m \u001b[0m_jmap\u001b[0m\u001b[1;33m(\u001b[0m\u001b[0mself\u001b[0m\u001b[1;33m,\u001b[0m \u001b[0mjm\u001b[0m\u001b[1;33m)\u001b[0m\u001b[1;33m:\u001b[0m\u001b[1;33m\u001b[0m\u001b[1;33m\u001b[0m\u001b[0m\n",
      "\u001b[1;32mE:\\SW\\Anaconda\\lib\\site-packages\\pyspark\\sql\\column.py\u001b[0m in \u001b[0;36m_to_seq\u001b[1;34m(sc, cols, converter)\u001b[0m\n\u001b[0;32m     59\u001b[0m     \"\"\"\n\u001b[0;32m     60\u001b[0m     \u001b[1;32mif\u001b[0m \u001b[0mconverter\u001b[0m\u001b[1;33m:\u001b[0m\u001b[1;33m\u001b[0m\u001b[1;33m\u001b[0m\u001b[0m\n\u001b[1;32m---> 61\u001b[1;33m         \u001b[0mcols\u001b[0m \u001b[1;33m=\u001b[0m \u001b[1;33m[\u001b[0m\u001b[0mconverter\u001b[0m\u001b[1;33m(\u001b[0m\u001b[0mc\u001b[0m\u001b[1;33m)\u001b[0m \u001b[1;32mfor\u001b[0m \u001b[0mc\u001b[0m \u001b[1;32min\u001b[0m \u001b[0mcols\u001b[0m\u001b[1;33m]\u001b[0m\u001b[1;33m\u001b[0m\u001b[1;33m\u001b[0m\u001b[0m\n\u001b[0m\u001b[0;32m     62\u001b[0m     \u001b[1;32mreturn\u001b[0m \u001b[0msc\u001b[0m\u001b[1;33m.\u001b[0m\u001b[0m_jvm\u001b[0m\u001b[1;33m.\u001b[0m\u001b[0mPythonUtils\u001b[0m\u001b[1;33m.\u001b[0m\u001b[0mtoSeq\u001b[0m\u001b[1;33m(\u001b[0m\u001b[0mcols\u001b[0m\u001b[1;33m)\u001b[0m\u001b[1;33m\u001b[0m\u001b[1;33m\u001b[0m\u001b[0m\n\u001b[0;32m     63\u001b[0m \u001b[1;33m\u001b[0m\u001b[0m\n",
      "\u001b[1;32mE:\\SW\\Anaconda\\lib\\site-packages\\pyspark\\sql\\column.py\u001b[0m in \u001b[0;36m<listcomp>\u001b[1;34m(.0)\u001b[0m\n\u001b[0;32m     59\u001b[0m     \"\"\"\n\u001b[0;32m     60\u001b[0m     \u001b[1;32mif\u001b[0m \u001b[0mconverter\u001b[0m\u001b[1;33m:\u001b[0m\u001b[1;33m\u001b[0m\u001b[1;33m\u001b[0m\u001b[0m\n\u001b[1;32m---> 61\u001b[1;33m         \u001b[0mcols\u001b[0m \u001b[1;33m=\u001b[0m \u001b[1;33m[\u001b[0m\u001b[0mconverter\u001b[0m\u001b[1;33m(\u001b[0m\u001b[0mc\u001b[0m\u001b[1;33m)\u001b[0m \u001b[1;32mfor\u001b[0m \u001b[0mc\u001b[0m \u001b[1;32min\u001b[0m \u001b[0mcols\u001b[0m\u001b[1;33m]\u001b[0m\u001b[1;33m\u001b[0m\u001b[1;33m\u001b[0m\u001b[0m\n\u001b[0m\u001b[0;32m     62\u001b[0m     \u001b[1;32mreturn\u001b[0m \u001b[0msc\u001b[0m\u001b[1;33m.\u001b[0m\u001b[0m_jvm\u001b[0m\u001b[1;33m.\u001b[0m\u001b[0mPythonUtils\u001b[0m\u001b[1;33m.\u001b[0m\u001b[0mtoSeq\u001b[0m\u001b[1;33m(\u001b[0m\u001b[0mcols\u001b[0m\u001b[1;33m)\u001b[0m\u001b[1;33m\u001b[0m\u001b[1;33m\u001b[0m\u001b[0m\n\u001b[0;32m     63\u001b[0m \u001b[1;33m\u001b[0m\u001b[0m\n",
      "\u001b[1;32mE:\\SW\\Anaconda\\lib\\site-packages\\pyspark\\sql\\column.py\u001b[0m in \u001b[0;36m_to_java_column\u001b[1;34m(col)\u001b[0m\n\u001b[0;32m     41\u001b[0m         \u001b[0mjcol\u001b[0m \u001b[1;33m=\u001b[0m \u001b[0mcol\u001b[0m\u001b[1;33m.\u001b[0m\u001b[0m_jc\u001b[0m\u001b[1;33m\u001b[0m\u001b[1;33m\u001b[0m\u001b[0m\n\u001b[0;32m     42\u001b[0m     \u001b[1;32melif\u001b[0m \u001b[0misinstance\u001b[0m\u001b[1;33m(\u001b[0m\u001b[0mcol\u001b[0m\u001b[1;33m,\u001b[0m \u001b[0mstr\u001b[0m\u001b[1;33m)\u001b[0m\u001b[1;33m:\u001b[0m\u001b[1;33m\u001b[0m\u001b[1;33m\u001b[0m\u001b[0m\n\u001b[1;32m---> 43\u001b[1;33m         \u001b[0mjcol\u001b[0m \u001b[1;33m=\u001b[0m \u001b[0m_create_column_from_name\u001b[0m\u001b[1;33m(\u001b[0m\u001b[0mcol\u001b[0m\u001b[1;33m)\u001b[0m\u001b[1;33m\u001b[0m\u001b[1;33m\u001b[0m\u001b[0m\n\u001b[0m\u001b[0;32m     44\u001b[0m     \u001b[1;32melse\u001b[0m\u001b[1;33m:\u001b[0m\u001b[1;33m\u001b[0m\u001b[1;33m\u001b[0m\u001b[0m\n\u001b[0;32m     45\u001b[0m         raise TypeError(\n",
      "\u001b[1;32mE:\\SW\\Anaconda\\lib\\site-packages\\pyspark\\sql\\column.py\u001b[0m in \u001b[0;36m_create_column_from_name\u001b[1;34m(name)\u001b[0m\n\u001b[0;32m     34\u001b[0m \u001b[1;32mdef\u001b[0m \u001b[0m_create_column_from_name\u001b[0m\u001b[1;33m(\u001b[0m\u001b[0mname\u001b[0m\u001b[1;33m)\u001b[0m\u001b[1;33m:\u001b[0m\u001b[1;33m\u001b[0m\u001b[1;33m\u001b[0m\u001b[0m\n\u001b[0;32m     35\u001b[0m     \u001b[0msc\u001b[0m \u001b[1;33m=\u001b[0m \u001b[0mSparkContext\u001b[0m\u001b[1;33m.\u001b[0m\u001b[0m_active_spark_context\u001b[0m\u001b[1;33m\u001b[0m\u001b[1;33m\u001b[0m\u001b[0m\n\u001b[1;32m---> 36\u001b[1;33m     \u001b[1;32mreturn\u001b[0m \u001b[0msc\u001b[0m\u001b[1;33m.\u001b[0m\u001b[0m_jvm\u001b[0m\u001b[1;33m.\u001b[0m\u001b[0mfunctions\u001b[0m\u001b[1;33m.\u001b[0m\u001b[0mcol\u001b[0m\u001b[1;33m(\u001b[0m\u001b[0mname\u001b[0m\u001b[1;33m)\u001b[0m\u001b[1;33m\u001b[0m\u001b[1;33m\u001b[0m\u001b[0m\n\u001b[0m\u001b[0;32m     37\u001b[0m \u001b[1;33m\u001b[0m\u001b[0m\n\u001b[0;32m     38\u001b[0m \u001b[1;33m\u001b[0m\u001b[0m\n",
      "\u001b[1;31mAttributeError\u001b[0m: 'NoneType' object has no attribute '_jvm'"
     ]
    }
   ],
   "source": [
    "df.select('icao_aeródromo_destino').show()"
   ]
  },
  {
   "cell_type": "code",
   "execution_count": null,
   "id": "32b8aecc",
   "metadata": {},
   "outputs": [],
   "source": []
  }
 ],
 "metadata": {
  "kernelspec": {
   "display_name": "Python 3 (ipykernel)",
   "language": "python",
   "name": "python3"
  },
  "language_info": {
   "codemirror_mode": {
    "name": "ipython",
    "version": 3
   },
   "file_extension": ".py",
   "mimetype": "text/x-python",
   "name": "python",
   "nbconvert_exporter": "python",
   "pygments_lexer": "ipython3",
   "version": "3.9.7"
  }
 },
 "nbformat": 4,
 "nbformat_minor": 5
}
